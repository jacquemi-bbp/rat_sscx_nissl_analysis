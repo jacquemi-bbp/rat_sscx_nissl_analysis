{
 "cells": [
  {
   "cell_type": "code",
   "execution_count": null,
   "id": "0fc07011",
   "metadata": {},
   "outputs": [],
   "source": [
    "import pandas as pd\n",
    "import matplotlib.pyplot as plt"
   ]
  },
  {
   "cell_type": "code",
   "execution_count": null,
   "id": "63979ac7",
   "metadata": {},
   "outputs": [],
   "source": [
    "df1 = pd.read_pickle('/Users/jacquemi/working_dir/Rat_Nissl/Results/PlanB/March_09/boundary_03_07_22.pkl')"
   ]
  },
  {
   "cell_type": "code",
   "execution_count": null,
   "id": "df0659ac",
   "metadata": {},
   "outputs": [],
   "source": [
    "def plot_laye_per_animal(dataframe):\n",
    "    fig = plt.figure(figsize=(15,15))\n",
    "    for layer_name in ['Layer 1',  'Layer 2',  'Layer 3',  'Layer 4',  'Layer 5',  'Layer 6 a',  'Layer 6 b']:\n",
    "        #layer_animal = dataframe[dataframe['Layer'] == layer_name]['animal'].to_numpy()\n",
    "        #positions = dataframe[dataframe['Layer'] == layer_name]['Layer bottom (um). Origin is top of layer 1'].to_numpy()\n",
    "        layer_df = dataframe[dataframe['Layer'] == layer_name].groupby(['animal', 'Layer'], as_index=False)['Layer bottom (um). Origin is top of layer 1'].mean()\n",
    "        positions = layer_df['Layer bottom (um). Origin is top of layer 1']\n",
    "        \n",
    "        #print(f'layer_name {layer_name}, positions {positions}')\n",
    "        layer_animal = layer_df['animal']\n",
    "        plt.scatter(layer_animal, positions, label=layer_name, s=100)\n",
    "        plt.xlabel('Animal id')\n",
    "        plt.xticks(rotation=90)\n",
    "        plt.ylabel('Layer bottom. Origin is top of '+ layer_name + ' (um)')\n",
    "        plt.gca().legend()\n",
    "        plt.tilte = str(layer_name)\n",
    "    plt.savefig('/tmp/layers.jpg')\n",
    "    plt.show()"
   ]
  },
  {
   "cell_type": "code",
   "execution_count": null,
   "id": "52877ca8",
   "metadata": {},
   "outputs": [],
   "source": [
    "plot_laye_per_animal(df1)\n"
   ]
  },
  {
   "cell_type": "code",
   "execution_count": null,
   "id": "534d23ca",
   "metadata": {},
   "outputs": [],
   "source": []
  }
 ],
 "metadata": {
  "kernelspec": {
   "display_name": "Python 3 (ipykernel)",
   "language": "python",
   "name": "python3"
  },
  "language_info": {
   "codemirror_mode": {
    "name": "ipython",
    "version": 3
   },
   "file_extension": ".py",
   "mimetype": "text/x-python",
   "name": "python",
   "nbconvert_exporter": "python",
   "pygments_lexer": "ipython3",
   "version": "3.8.9"
  }
 },
 "nbformat": 4,
 "nbformat_minor": 5
}
