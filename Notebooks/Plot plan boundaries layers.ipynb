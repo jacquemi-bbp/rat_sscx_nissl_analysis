{
 "cells": [
  {
   "cell_type": "code",
   "execution_count": 1,
   "id": "0fc07011",
   "metadata": {},
   "outputs": [],
   "source": [
    "import pandas as pd\n",
    "import matplotlib.pyplot as plt"
   ]
  },
  {
   "cell_type": "code",
   "execution_count": 20,
   "id": "63979ac7",
   "metadata": {},
   "outputs": [],
   "source": [
    "df1 = pd.read_pickle('../../Results/Layer_Boundaries/PlanB/March_07/Boundaries/boundary_03_07_22.pkl')"
   ]
  },
  {
   "cell_type": "code",
   "execution_count": 21,
   "id": "dc6270a8",
   "metadata": {},
   "outputs": [
    {
     "data": {
      "text/html": [
       "<div>\n",
       "<style scoped>\n",
       "    .dataframe tbody tr th:only-of-type {\n",
       "        vertical-align: middle;\n",
       "    }\n",
       "\n",
       "    .dataframe tbody tr th {\n",
       "        vertical-align: top;\n",
       "    }\n",
       "\n",
       "    .dataframe thead th {\n",
       "        text-align: right;\n",
       "    }\n",
       "</style>\n",
       "<table border=\"1\" class=\"dataframe\">\n",
       "  <thead>\n",
       "    <tr style=\"text-align: right;\">\n",
       "      <th></th>\n",
       "      <th>image</th>\n",
       "      <th>bregma</th>\n",
       "      <th>animal</th>\n",
       "      <th>immunohistochemistry ID</th>\n",
       "      <th>Layer</th>\n",
       "      <th>Layer bottom (um). Origin is top of layer 1</th>\n",
       "      <th>Layer bottom (percentage). Origin is top of layer 1</th>\n",
       "    </tr>\n",
       "  </thead>\n",
       "  <tbody>\n",
       "    <tr>\n",
       "      <th>0</th>\n",
       "      <td>SLD_0000404.vsi - 20x_01</td>\n",
       "      <td>Lateral 2.40 mm</td>\n",
       "      <td>1413827-RightHemisphere</td>\n",
       "      <td>Nissl_1</td>\n",
       "      <td>Layer 1</td>\n",
       "      <td>189.799392</td>\n",
       "      <td>0.087335</td>\n",
       "    </tr>\n",
       "    <tr>\n",
       "      <th>1</th>\n",
       "      <td>SLD_0000404.vsi - 20x_01</td>\n",
       "      <td>Lateral 2.40 mm</td>\n",
       "      <td>1413827-RightHemisphere</td>\n",
       "      <td>Nissl_1</td>\n",
       "      <td>Layer 2</td>\n",
       "      <td>383.169110</td>\n",
       "      <td>0.176313</td>\n",
       "    </tr>\n",
       "    <tr>\n",
       "      <th>2</th>\n",
       "      <td>SLD_0000404.vsi - 20x_01</td>\n",
       "      <td>Lateral 2.40 mm</td>\n",
       "      <td>1413827-RightHemisphere</td>\n",
       "      <td>Nissl_1</td>\n",
       "      <td>Layer 3</td>\n",
       "      <td>680.297027</td>\n",
       "      <td>0.313034</td>\n",
       "    </tr>\n",
       "    <tr>\n",
       "      <th>3</th>\n",
       "      <td>SLD_0000404.vsi - 20x_01</td>\n",
       "      <td>Lateral 2.40 mm</td>\n",
       "      <td>1413827-RightHemisphere</td>\n",
       "      <td>Nissl_1</td>\n",
       "      <td>Layer 4</td>\n",
       "      <td>846.536785</td>\n",
       "      <td>0.389529</td>\n",
       "    </tr>\n",
       "    <tr>\n",
       "      <th>4</th>\n",
       "      <td>SLD_0000404.vsi - 20x_01</td>\n",
       "      <td>Lateral 2.40 mm</td>\n",
       "      <td>1413827-RightHemisphere</td>\n",
       "      <td>Nissl_1</td>\n",
       "      <td>Layer 5</td>\n",
       "      <td>1408.518989</td>\n",
       "      <td>0.648121</td>\n",
       "    </tr>\n",
       "    <tr>\n",
       "      <th>...</th>\n",
       "      <td>...</td>\n",
       "      <td>...</td>\n",
       "      <td>...</td>\n",
       "      <td>...</td>\n",
       "      <td>...</td>\n",
       "      <td>...</td>\n",
       "      <td>...</td>\n",
       "    </tr>\n",
       "    <tr>\n",
       "      <th>2</th>\n",
       "      <td>SLD_0000658.vsi - 20x_01</td>\n",
       "      <td>Lateral 2.15 mm</td>\n",
       "      <td>1449920-LeftHemisphere</td>\n",
       "      <td>Nissl_6</td>\n",
       "      <td>Layer 3</td>\n",
       "      <td>670.369265</td>\n",
       "      <td>0.357395</td>\n",
       "    </tr>\n",
       "    <tr>\n",
       "      <th>3</th>\n",
       "      <td>SLD_0000658.vsi - 20x_01</td>\n",
       "      <td>Lateral 2.15 mm</td>\n",
       "      <td>1449920-LeftHemisphere</td>\n",
       "      <td>Nissl_6</td>\n",
       "      <td>Layer 4</td>\n",
       "      <td>825.284687</td>\n",
       "      <td>0.439985</td>\n",
       "    </tr>\n",
       "    <tr>\n",
       "      <th>4</th>\n",
       "      <td>SLD_0000658.vsi - 20x_01</td>\n",
       "      <td>Lateral 2.15 mm</td>\n",
       "      <td>1449920-LeftHemisphere</td>\n",
       "      <td>Nissl_6</td>\n",
       "      <td>Layer 5</td>\n",
       "      <td>1221.967235</td>\n",
       "      <td>0.651468</td>\n",
       "    </tr>\n",
       "    <tr>\n",
       "      <th>5</th>\n",
       "      <td>SLD_0000658.vsi - 20x_01</td>\n",
       "      <td>Lateral 2.15 mm</td>\n",
       "      <td>1449920-LeftHemisphere</td>\n",
       "      <td>Nissl_6</td>\n",
       "      <td>Layer 6 a</td>\n",
       "      <td>1637.306540</td>\n",
       "      <td>0.872899</td>\n",
       "    </tr>\n",
       "    <tr>\n",
       "      <th>6</th>\n",
       "      <td>SLD_0000658.vsi - 20x_01</td>\n",
       "      <td>Lateral 2.15 mm</td>\n",
       "      <td>1449920-LeftHemisphere</td>\n",
       "      <td>Nissl_6</td>\n",
       "      <td>Layer 6 b</td>\n",
       "      <td>1862.833428</td>\n",
       "      <td>0.993134</td>\n",
       "    </tr>\n",
       "  </tbody>\n",
       "</table>\n",
       "<p>126 rows × 7 columns</p>\n",
       "</div>"
      ],
      "text/plain": [
       "                       image           bregma                   animal  \\\n",
       "0   SLD_0000404.vsi - 20x_01  Lateral 2.40 mm  1413827-RightHemisphere   \n",
       "1   SLD_0000404.vsi - 20x_01  Lateral 2.40 mm  1413827-RightHemisphere   \n",
       "2   SLD_0000404.vsi - 20x_01  Lateral 2.40 mm  1413827-RightHemisphere   \n",
       "3   SLD_0000404.vsi - 20x_01  Lateral 2.40 mm  1413827-RightHemisphere   \n",
       "4   SLD_0000404.vsi - 20x_01  Lateral 2.40 mm  1413827-RightHemisphere   \n",
       "..                       ...              ...                      ...   \n",
       "2   SLD_0000658.vsi - 20x_01  Lateral 2.15 mm   1449920-LeftHemisphere   \n",
       "3   SLD_0000658.vsi - 20x_01  Lateral 2.15 mm   1449920-LeftHemisphere   \n",
       "4   SLD_0000658.vsi - 20x_01  Lateral 2.15 mm   1449920-LeftHemisphere   \n",
       "5   SLD_0000658.vsi - 20x_01  Lateral 2.15 mm   1449920-LeftHemisphere   \n",
       "6   SLD_0000658.vsi - 20x_01  Lateral 2.15 mm   1449920-LeftHemisphere   \n",
       "\n",
       "   immunohistochemistry ID      Layer  \\\n",
       "0                  Nissl_1    Layer 1   \n",
       "1                  Nissl_1    Layer 2   \n",
       "2                  Nissl_1    Layer 3   \n",
       "3                  Nissl_1    Layer 4   \n",
       "4                  Nissl_1    Layer 5   \n",
       "..                     ...        ...   \n",
       "2                  Nissl_6    Layer 3   \n",
       "3                  Nissl_6    Layer 4   \n",
       "4                  Nissl_6    Layer 5   \n",
       "5                  Nissl_6  Layer 6 a   \n",
       "6                  Nissl_6  Layer 6 b   \n",
       "\n",
       "    Layer bottom (um). Origin is top of layer 1  \\\n",
       "0                                    189.799392   \n",
       "1                                    383.169110   \n",
       "2                                    680.297027   \n",
       "3                                    846.536785   \n",
       "4                                   1408.518989   \n",
       "..                                          ...   \n",
       "2                                    670.369265   \n",
       "3                                    825.284687   \n",
       "4                                   1221.967235   \n",
       "5                                   1637.306540   \n",
       "6                                   1862.833428   \n",
       "\n",
       "    Layer bottom (percentage). Origin is top of layer 1  \n",
       "0                                            0.087335    \n",
       "1                                            0.176313    \n",
       "2                                            0.313034    \n",
       "3                                            0.389529    \n",
       "4                                            0.648121    \n",
       "..                                                ...    \n",
       "2                                            0.357395    \n",
       "3                                            0.439985    \n",
       "4                                            0.651468    \n",
       "5                                            0.872899    \n",
       "6                                            0.993134    \n",
       "\n",
       "[126 rows x 7 columns]"
      ]
     },
     "execution_count": 21,
     "metadata": {},
     "output_type": "execute_result"
    }
   ],
   "source": [
    "df1"
   ]
  },
  {
   "cell_type": "code",
   "execution_count": 60,
   "id": "df0659ac",
   "metadata": {},
   "outputs": [],
   "source": [
    "def plot_laye_per_animal(dataframe):\n",
    "    fig = plt.figure(figsize=(15,15))\n",
    "    for layer_name in ['Layer 1',  'Layer 2',  'Layer 3',  'Layer 4',  'Layer 5',  'Layer 6 a',  'Layer 6 b']:\n",
    "        #layer_animal = dataframe[dataframe['Layer'] == layer_name]['animal'].to_numpy()\n",
    "        #positions = dataframe[dataframe['Layer'] == layer_name]['Layer bottom (um). Origin is top of layer 1'].to_numpy()\n",
    "        layer_df = dataframe[dataframe['Layer'] == layer_name].groupby(['animal', 'Layer'], as_index=False)['Layer bottom (um). Origin is top of layer 1'].mean()\n",
    "        positions = layer_df['Layer bottom (um). Origin is top of layer 1']\n",
    "        layer_animal = layer_df['animal']\n",
    "        plt.scatter(layer_animal, positions, label=layer_name, s=100)\n",
    "        plt.xlabel('Animal id')\n",
    "        plt.xticks(rotation=90)\n",
    "        plt.ylabel('Layer bottom. Origin is top of '+ layer_name + ' (um)')\n",
    "        plt.gca().legend()\n",
    "        plt.tilte = str(layer_name)\n",
    "    plt.savefig('/tmp/layers.jpg')\n",
    "    plt.show()"
   ]
  },
  {
   "cell_type": "code",
   "execution_count": 61,
   "id": "52877ca8",
   "metadata": {},
   "outputs": [
    {
     "data": {
      "image/png": "[encoded data removed]",
      "text/plain": [
       "<Figure size 1080x1080 with 1 Axes>"
      ]
     },
     "metadata": {
      "needs_background": "light"
     },
     "output_type": "display_data"
    }
   ],
   "source": [
    "plot_laye_per_animal(df1)\n"
   ]
  },
  {
   "cell_type": "code",
   "execution_count": 11,
   "id": "0fb82238",
   "metadata": {},
   "outputs": [
    {
     "data": {
      "text/plain": [
       "{'1413827-RightHemisphere'}"
      ]
     },
     "execution_count": 11,
     "metadata": {},
     "output_type": "execute_result"
    }
   ],
   "source": [
    "set(df1['animal'])"
   ]
  },
  {
   "cell_type": "code",
   "execution_count": 31,
   "id": "56b24b82",
   "metadata": {},
   "outputs": [
    {
     "data": {
      "text/plain": [
       "array([189.7993917 , 281.88243901, 113.01447537, 216.22434592,\n",
       "       171.01051365, 194.41692036, 255.85957034, 194.64211825,\n",
       "       143.95986488, 275.68609636, 231.9932551 , 246.12239712,\n",
       "       234.5049678 , 276.74504268, 139.36157556, 209.71414273,\n",
       "       176.55785517, 165.14385191])"
      ]
     },
     "execution_count": 31,
     "metadata": {},
     "output_type": "execute_result"
    }
   ],
   "source": [
    "df1[df1['Layer'] == 'Layer 1'][].to_numpy()"
   ]
  },
  {
   "cell_type": "code",
   "execution_count": 36,
   "id": "5857fbf8",
   "metadata": {},
   "outputs": [
    {
     "data": {
      "text/plain": [
       "array([['1413827-RightHemisphere', 'Layer 1', 203.01186881138995],\n",
       "       ['1413827-RightHemisphere', 'Layer 2', 390.16303439393465],\n",
       "       ['1413827-RightHemisphere', 'Layer 3', 734.970758751002],\n",
       "       ['1413827-RightHemisphere', 'Layer 4', 846.9309105718697],\n",
       "       ['1413827-RightHemisphere', 'Layer 5', 1438.9230053871906],\n",
       "       ['1413827-RightHemisphere', 'Layer 6 a', 1857.9568675454698],\n",
       "       ['1413827-RightHemisphere', 'Layer 6 b', 2065.239947519036],\n",
       "       ['1413828-LeftHemisphere', 'Layer 1', 225.25084429336016],\n",
       "       ['1413828-LeftHemisphere', 'Layer 2', 362.5937323809951],\n",
       "       ['1413828-LeftHemisphere', 'Layer 3', 731.7198283133118],\n",
       "       ['1413828-LeftHemisphere', 'Layer 4', 887.7232173920131],\n",
       "       ['1413828-LeftHemisphere', 'Layer 5', 1327.8095782402943],\n",
       "       ['1413828-LeftHemisphere', 'Layer 6 a', 1873.058324513479],\n",
       "       ['1413828-LeftHemisphere', 'Layer 6 b', 2137.5659962657382],\n",
       "       ['1413829-RightHemisphere', 'Layer 1', 262.31203561389515],\n",
       "       ['1413829-RightHemisphere', 'Layer 2', 351.1834907402427],\n",
       "       ['1413829-RightHemisphere', 'Layer 3', 787.0202216878464],\n",
       "       ['1413829-RightHemisphere', 'Layer 4', 908.030656943111],\n",
       "       ['1413829-RightHemisphere', 'Layer 5', 1402.868434305141],\n",
       "       ['1413829-RightHemisphere', 'Layer 6 a', 1919.9240029269286],\n",
       "       ['1413829-RightHemisphere', 'Layer 6 b', 2074.0006400014395],\n",
       "       ['1443459-RightHemisphere', 'Layer 1', 185.67741532691116],\n",
       "       ['1443459-RightHemisphere', 'Layer 2', 344.64084834562095],\n",
       "       ['1443459-RightHemisphere', 'Layer 3', 756.4034701488395],\n",
       "       ['1443459-RightHemisphere', 'Layer 4', 812.6050061750186],\n",
       "       ['1443459-RightHemisphere', 'Layer 5', 1284.9915456592478],\n",
       "       ['1443459-RightHemisphere', 'Layer 6 a', 1692.803590862683],\n",
       "       ['1443459-RightHemisphere', 'Layer 6 b', 1885.6875328203519],\n",
       "       ['1443460-RightHemisphere', 'Layer 1', 216.7511534042302],\n",
       "       ['1443460-RightHemisphere', 'Layer 2', 358.8580687651444],\n",
       "       ['1443460-RightHemisphere', 'Layer 3', 773.9185253323031],\n",
       "       ['1443460-RightHemisphere', 'Layer 4', 924.7900150717738],\n",
       "       ['1443460-RightHemisphere', 'Layer 5', 1446.0790360717099],\n",
       "       ['1443460-RightHemisphere', 'Layer 6 a', 1961.051822422143],\n",
       "       ['1443460-RightHemisphere', 'Layer 6 b', 2111.0654954959996],\n",
       "       ['1449920-LeftHemisphere', 'Layer 1', 154.55185839503494],\n",
       "       ['1449920-LeftHemisphere', 'Layer 2', 315.122052973305],\n",
       "       ['1449920-LeftHemisphere', 'Layer 3', 668.7575035488239],\n",
       "       ['1449920-LeftHemisphere', 'Layer 4', 819.271966447815],\n",
       "       ['1449920-LeftHemisphere', 'Layer 5', 1262.8239554002357],\n",
       "       ['1449920-LeftHemisphere', 'Layer 6 a', 1730.4332709190976],\n",
       "       ['1449920-LeftHemisphere', 'Layer 6 b', 1940.6755465104247],\n",
       "       ['1449921-LeftHemisphere', 'Layer 1', 113.0144753665802],\n",
       "       ['1449921-LeftHemisphere', 'Layer 2', 253.75454903893274],\n",
       "       ['1449921-LeftHemisphere', 'Layer 3', 619.1530895439435],\n",
       "       ['1449921-LeftHemisphere', 'Layer 4', 754.5159641961507],\n",
       "       ['1449921-LeftHemisphere', 'Layer 5', 1359.281896347539],\n",
       "       ['1449921-LeftHemisphere', 'Layer 6 a', 1877.0552192438256],\n",
       "       ['1449921-LeftHemisphere', 'Layer 6 b', 2081.102305110009],\n",
       "       ['1449922-RightHemisphere', 'Layer 1', 209.81693594229966],\n",
       "       ['1449922-RightHemisphere', 'Layer 2', 366.75459572690914],\n",
       "       ['1449922-RightHemisphere', 'Layer 3', 748.1703570142773],\n",
       "       ['1449922-RightHemisphere', 'Layer 4', 905.8355802780106],\n",
       "       ['1449922-RightHemisphere', 'Layer 5', 1435.0965000232493],\n",
       "       ['1449922-RightHemisphere', 'Layer 6 a', 1864.840373310902],\n",
       "       ['1449922-RightHemisphere', 'Layer 6 b', 2031.9146052907054]],\n",
       "      dtype=object)"
      ]
     },
     "execution_count": 36,
     "metadata": {},
     "output_type": "execute_result"
    }
   ],
   "source": [
    "df1.groupby(['animal', 'Layer'], as_index=False)['Layer bottom (um). Origin is top of layer 1'].mean().to_numpy()"
   ]
  },
  {
   "cell_type": "code",
   "execution_count": 41,
   "id": "b07b79d9",
   "metadata": {},
   "outputs": [
    {
     "data": {
      "text/plain": [
       "array([['1413827-RightHemisphere', 'Layer 2', 390.16303439393465],\n",
       "       ['1413828-LeftHemisphere', 'Layer 2', 362.5937323809951],\n",
       "       ['1413829-RightHemisphere', 'Layer 2', 351.1834907402427],\n",
       "       ['1443459-RightHemisphere', 'Layer 2', 344.64084834562095],\n",
       "       ['1443460-RightHemisphere', 'Layer 2', 358.8580687651444],\n",
       "       ['1449920-LeftHemisphere', 'Layer 2', 315.122052973305],\n",
       "       ['1449921-LeftHemisphere', 'Layer 2', 253.75454903893274],\n",
       "       ['1449922-RightHemisphere', 'Layer 2', 366.75459572690914]],\n",
       "      dtype=object)"
      ]
     },
     "execution_count": 41,
     "metadata": {},
     "output_type": "execute_result"
    }
   ],
   "source": [
    "df1[df1['Layer'] == 'Layer 2'].groupby(['animal', 'Layer'], as_index=False)['Layer bottom (um). Origin is top of layer 1'].mean().to_numpy()\n"
   ]
  },
  {
   "cell_type": "code",
   "execution_count": 45,
   "id": "f20a11e7",
   "metadata": {},
   "outputs": [],
   "source": [
    "layer_df = df1[df1['Layer'] == 'Layer 2'].groupby(['animal', 'Layer'], as_index=False)['Layer bottom (um). Origin is top of layer 1'].mean()"
   ]
  },
  {
   "cell_type": "code",
   "execution_count": 49,
   "id": "bb34b212",
   "metadata": {},
   "outputs": [
    {
     "data": {
      "text/plain": [
       "0    1413827-RightHemisphere\n",
       "1     1413828-LeftHemisphere\n",
       "2    1413829-RightHemisphere\n",
       "3    1443459-RightHemisphere\n",
       "4    1443460-RightHemisphere\n",
       "5     1449920-LeftHemisphere\n",
       "6     1449921-LeftHemisphere\n",
       "7    1449922-RightHemisphere\n",
       "Name: animal, dtype: object"
      ]
     },
     "execution_count": 49,
     "metadata": {},
     "output_type": "execute_result"
    }
   ],
   "source": [
    "layer_df['animal']"
   ]
  },
  {
   "cell_type": "code",
   "execution_count": 48,
   "id": "5366919e",
   "metadata": {},
   "outputs": [
    {
     "data": {
      "text/plain": [
       "0    390.163034\n",
       "1    362.593732\n",
       "2    351.183491\n",
       "3    344.640848\n",
       "4    358.858069\n",
       "5    315.122053\n",
       "6    253.754549\n",
       "7    366.754596\n",
       "Name: Layer bottom (um). Origin is top of layer 1, dtype: float64"
      ]
     },
     "execution_count": 48,
     "metadata": {},
     "output_type": "execute_result"
    }
   ],
   "source": [
    "layer_df['Layer bottom (um). Origin is top of layer 1']"
   ]
  },
  {
   "cell_type": "code",
   "execution_count": null,
   "id": "bb3e2aad",
   "metadata": {},
   "outputs": [],
   "source": []
  }
 ],
 "metadata": {
  "kernelspec": {
   "display_name": "Python 3 (ipykernel)",
   "language": "python",
   "name": "python3"
  },
  "language_info": {
   "codemirror_mode": {
    "name": "ipython",
    "version": 3
   },
   "file_extension": ".py",
   "mimetype": "text/x-python",
   "name": "python",
   "nbconvert_exporter": "python",
   "pygments_lexer": "ipython3",
   "version": "3.8.10"
  }
 },
 "nbformat": 4,
 "nbformat_minor": 5
}
