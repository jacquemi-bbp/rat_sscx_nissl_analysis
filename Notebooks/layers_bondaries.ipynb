{
 "cells": [
  {
   "cell_type": "code",
   "execution_count": 1,
   "id": "49d2940a-db0e-4463-aa6e-80491b0ef87e",
   "metadata": {},
   "outputs": [],
   "source": [
    "import pandas as pd\n",
    "import matplotlib.pyplot as plt\n",
    "import numpy as np\n",
    "from collections import defaultdict\n",
    "import glob"
   ]
  },
  {
   "cell_type": "code",
   "execution_count": 2,
   "id": "089a6743-459d-4de1-b814-d8bf4071317f",
   "metadata": {},
   "outputs": [],
   "source": [
    "path = '/gpfs/bbp.cscs.ch/project/proj53/CellDensitiesProject/Production/2024/Dataframes/Distinguishable_second_layer_prediction/'"
   ]
  },
  {
   "cell_type": "code",
   "execution_count": 3,
   "id": "df8279e9-e5a8-4d81-a7f0-7d3ba4d8fcf7",
   "metadata": {},
   "outputs": [],
   "source": [
    "filelist = glob.glob(path + '*.csv')\n",
    "filelist.remove('/gpfs/bbp.cscs.ch/project/proj53/CellDensitiesProject/Production/2024/Dataframes/Distinguishable_second_layer_prediction/Features_SLD_0000560.vsi-20x_01.csv')"
   ]
  },
  {
   "cell_type": "code",
   "execution_count": 4,
   "id": "7b033786-3d65-487d-a169-8e686f9e395e",
   "metadata": {},
   "outputs": [],
   "source": [
    "df = pd.read_csv(filelist[0])\n",
    "layers = np.unique(df.RF_prediction)"
   ]
  },
  {
   "cell_type": "code",
   "execution_count": 6,
   "id": "135b8bda-98b8-41e6-a1a4-229cf7ec6d18",
   "metadata": {},
   "outputs": [],
   "source": [
    "layer_distance_to_pia_min = defaultdict(list)\n",
    "for file in filelist:\n",
    "    df = pd.read_csv(file)\n",
    "    layers = np.unique(df.RF_prediction)\n",
    "    for layer in layers:\n",
    "        layer_distance_filter = df[df['RF_prediction'] == layer]['Distance to annotation with Outside Pia µm'].to_numpy()\n",
    "        # We compute the mean of the 5 min value\n",
    "        min_value_indice = np.argsort(layer_distance_filter)[:5]\n",
    "        min_value = layer_distance_filter[min_value_indice].mean()\n",
    "        layer_distance_to_pia_min[layer].append(min_value)\n",
    "\n",
    "\n",
    "   \n",
    "    "
   ]
  },
  {
   "cell_type": "code",
   "execution_count": 10,
   "id": "50a155cf-742a-42b7-b901-7d1210a255f6",
   "metadata": {},
   "outputs": [],
   "source": [
    "nb_entry_per_layer = len(filelist)"
   ]
  },
  {
   "cell_type": "code",
   "execution_count": 11,
   "id": "1696232d-3c0c-4dfb-97a6-80261234274b",
   "metadata": {},
   "outputs": [],
   "source": [
    "distances = np.zeros((layers.size, nb_entry_per_layer), dtype=float)\n",
    "for index, dis in enumerate(layer_distance_to_pia_min.values()):\n",
    "    distances[index][:] = dis"
   ]
  },
  {
   "cell_type": "code",
   "execution_count": 15,
   "id": "384c50b4-901c-4272-ba97-1a0cf69a2206",
   "metadata": {},
   "outputs": [],
   "source": [
    "mean = distances.mean(axis=1)\n",
    "std = distances.std(axis=1)\n",
    "\n",
    "ind = np.arange(layers.size)    # the x locations for the groups\n",
    "width = 0.7       # the width of the bars: can also be len(x) sequence"
   ]
  },
  {
   "cell_type": "code",
   "execution_count": 18,
   "id": "b4e07e6b-10e6-4575-840b-5c2568c65aef",
   "metadata": {},
   "outputs": [
    {
     "data": {
      "image/png": "[encoded data removed]",
      "text/plain": [
       "<Figure size 500x500 with 1 Axes>"
      ]
     },
     "metadata": {},
     "output_type": "display_data"
    }
   ],
   "source": [
    "plt.figure(figsize=(5, 5))\n",
    "p1 = plt.bar(ind, mean, width, yerr=std)\n",
    "plt.gca().invert_yaxis()\n",
    "\n",
    "plt.ylabel('minimun distance to Pia (um)')\n",
    "plt.title('S1HL Layer minimun distance to Pia')\n",
    " \n",
    "plt.xticks(ind, columns)   \n",
    "    current_values = plt.gca().get_yticks()\n",
    "    _=plt.gca().set_yticklabels(['{:.1e}'.format(x) for x in current_values])"
   ]
  },
  {
   "cell_type": "code",
   "execution_count": null,
   "id": "b442a862-67af-4f00-b1de-a562a8fbf391",
   "metadata": {},
   "outputs": [],
   "source": []
  }
 ],
 "metadata": {
  "kernelspec": {
   "display_name": "Python 3 (ipykernel)",
   "language": "python",
   "name": "python3"
  },
  "language_info": {
   "codemirror_mode": {
    "name": "ipython",
    "version": 3
   },
   "file_extension": ".py",
   "mimetype": "text/x-python",
   "name": "python",
   "nbconvert_exporter": "python",
   "pygments_lexer": "ipython3",
   "version": "3.10.12"
  }
 },
 "nbformat": 4,
 "nbformat_minor": 5
}
