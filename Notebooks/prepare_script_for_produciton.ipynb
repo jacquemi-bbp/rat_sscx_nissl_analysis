{
 "cells": [
  {
   "cell_type": "code",
   "execution_count": 1,
   "metadata": {},
   "outputs": [],
   "source": [
    "ROOT_PATH = '/gpfs/bbp.cscs.ch/project/proj53/LayerBoundariesProject/Analysis'"
   ]
  },
  {
   "cell_type": "code",
   "execution_count": 2,
   "metadata": {},
   "outputs": [],
   "source": [
    "qupath_project_list=[\n",
    "'./Nissl_1/01413827_RH_Nissl_1_QuPath/ProjectQuPath_01413827_RH_Nissl_1.qpproj',\n",
    "    \n",
    "'./Nissl_2/01413829_RH_Nissl_2_QuPath/ProjectQuPath_01413829_RH_Nissl_2.qpproj',\n",
    "'./Nissl_2/01413827_LH_Nissl_2_QuPath/ProjectQuPath_01413827_LH_Nissl_2.qpproj',\n",
    "'./Nissl_2/01413828_RH_Nissl_2_QuPath/ProjectQuPath_01413828_RH_Nissl_2.qpproj',\n",
    "    \n",
    "'./Nissl_3/ProjectQuPath_1413828_LH_Nissl_3/ProjectQuPath_1413828_LH_Nissl_3.qpproj',\n",
    "\n",
    "'./Nissl_4/ProjectQuPath_1443459_RH_Nissl_4/ProjectQuPath_1443459_RH_Nissl_4.qpproj',\n",
    "'./Nissl_4/ProjectQuPath_1443460_RH_Nissl_4/ProjectQuPath_1443460_RH_Nissl_4.qpproj',\n",
    "    \n",
    "'./Nissl_5/ProjectQuPath_1443460_LH_Nissl_5/ProjectQuPath_1443460_LH_Nissl_5.qpproj',\n",
    "'./Nissl_5/ProjectQuPath_1443459_LH_Nissl_5/ProjectQuPath_1443459_LH_Nissl_5.qpproj',\n",
    "    \n",
    "'./Nissl_6/ProjectQuPath_1449922_RH_Nissl_6/ProjectQuPath_1449922_RH_Nissl_6.qpproj',\n",
    "'./Nissl_6/ProjectQuPath_1449921_LH_Nissl_6/ProjectQuPath_1449921_LH_Nissl_6.qpproj',\n",
    "'./Nissl_6/ProjectQuPath_1449921_RH_Nissl_6/ProjectQuPath_1449921_RH_Nissl_6.qpproj',\n",
    "'./Nissl_6/ProjectQuPath_1449920_LH_Nissl_6/ProjectQuPath_1449920_LH_Nissl_6.qpproj',\n",
    "'./Nissl_6/ProjectQuPath_1449922_LH_Nissl_6/ProjectQuPath_1449922_LH_Nissl_6.qpproj',\n",
    "\n",
    "]"
   ]
  },
  {
   "cell_type": "code",
   "execution_count": 3,
   "metadata": {},
   "outputs": [],
   "source": [
    "qupath_export_output = (\n",
    "'/gpfs/bbp.cscs.ch/project/proj53/LayerBoundariesProject/Production/20231102/datasets/'\n",
    "'Exported_Features/QuPath_exported_data/For_prediction'\n",
    ")"
   ]
  },
  {
   "cell_type": "code",
   "execution_count": 4,
   "metadata": {},
   "outputs": [
    {
     "name": "stdout",
     "output_type": "stream",
     "text": [
      "#/bin/bash\n",
      "\n",
      "OUTPUT_PATH=\"/gpfs/bbp.cscs.ch/project/proj53/LayerBoundariesProject/Production/20231102/datasets/Exported_Features/QuPath_exported_data/For_prediction\"\n",
      "\n",
      "for project in ./Nissl_1/01413827_RH_Nissl_1_QuPath/ProjectQuPath_01413827_RH_Nissl_1.qpproj ./Nissl_2/01413829_RH_Nissl_2_QuPath/ProjectQuPath_01413829_RH_Nissl_2.qpproj ./Nissl_2/01413827_LH_Nissl_2_QuPath/ProjectQuPath_01413827_LH_Nissl_2.qpproj ./Nissl_2/01413828_RH_Nissl_2_QuPath/ProjectQuPath_01413828_RH_Nissl_2.qpproj ./Nissl_3/ProjectQuPath_1413828_LH_Nissl_3/ProjectQuPath_1413828_LH_Nissl_3.qpproj ./Nissl_4/ProjectQuPath_1443459_RH_Nissl_4/ProjectQuPath_1443459_RH_Nissl_4.qpproj ./Nissl_4/ProjectQuPath_1443460_RH_Nissl_4/ProjectQuPath_1443460_RH_Nissl_4.qpproj ./Nissl_5/ProjectQuPath_1443460_LH_Nissl_5/ProjectQuPath_1443460_LH_Nissl_5.qpproj ./Nissl_5/ProjectQuPath_1443459_LH_Nissl_5/ProjectQuPath_1443459_LH_Nissl_5.qpproj ./Nissl_6/ProjectQuPath_1449922_RH_Nissl_6/ProjectQuPath_1449922_RH_Nissl_6.qpproj ./Nissl_6/ProjectQuPath_1449921_LH_Nissl_6/ProjectQuPath_1449921_LH_Nissl_6.qpproj ./Nissl_6/ProjectQuPath_1449921_RH_Nissl_6/ProjectQuPath_1449921_RH_Nissl_6.qpproj ./Nissl_6/ProjectQuPath_1449920_LH_Nissl_6/ProjectQuPath_1449920_LH_Nissl_6.qpproj ./Nissl_6/ProjectQuPath_1449922_LH_Nissl_6/ProjectQuPath_1449922_LH_Nissl_6.qpproj ; do echo $project ; mkdir -p $OUTPUT_PATH/$project ;/usr/local/QuPath/QuPath/bin/QuPath script recompute_features.groovy -p=\"/gpfs/bbp.cscs.ch/project/proj53/LayerBoundariesProject/Analysis/$project\" -s ;/usr/local/QuPath/QuPath/bin/QuPath script export_annation_and_detection_without_cellpose.groovy -p=\"/gpfs/bbp.cscs.ch/project/proj53/LayerBoundariesProject/Analysis/$project\" -a=$OUTPUT_PATH/$project; done\n"
     ]
    }
   ],
   "source": [
    "print('#/bin/bash\\n')\n",
    "print(f'OUTPUT_PATH=\"{qupath_export_output}\"\\n')\n",
    "print('for project in ', end='')\n",
    "for project_path in qupath_project_list:\n",
    "    print(f'{project_path}', end=' ')\n",
    "print(f'; do echo $project', end=' ' )\n",
    "print(f'; mkdir -p $OUTPUT_PATH/$project', end=' ')\n",
    "print(f';/usr/local/QuPath/QuPath/bin/QuPath script recompute_features.groovy -p=\"{ROOT_PATH}/$project\" -s', end=' ')\n",
    "print(f';/usr/local/QuPath/QuPath/bin/QuPath script export_annation_and_detection_without_cellpose.groovy -p=\"{ROOT_PATH}/$project\" -a=$OUTPUT_PATH/$project; done')\n",
    "\n",
    "#for i in 1 2 3; do echo \"$i\\n\"; done"
   ]
  },
  {
   "cell_type": "code",
   "execution_count": null,
   "metadata": {},
   "outputs": [],
   "source": [
    "for project in qupath_project_list:\n",
    "    print(f'echo \"----> {project}\" \\n')\n",
    "    print(f'/usr/local/QuPath/QuPath/bin/QuPath script recompute_features.groovy -p=\"{project}\" -s \\n')\n",
    "    print(f'/usr/local/QuPath/QuPath/bin/QuPath script export_annation_and_detection_without_cellpose.groovy -p=\"{project}\" -a={qupath_export_output}\\n')\n",
    "    print('\\n\\n')"
   ]
  },
  {
   "cell_type": "code",
   "execution_count": 4,
   "metadata": {},
   "outputs": [
    {
     "name": "stdout",
     "output_type": "stream",
     "text": [
      "ProjectQuPath_01413827_RH_Nissl_1.qpproj\n",
      "ProjectQuPath_1443459_RH_Nissl_4.qpproj\n",
      "ProjectQuPath_1443460_RH_Nissl_4.qpproj\n",
      "ProjectQuPath_01413829_RH_Nissl_2.qpproj\n",
      "ProjectQuPath_01413827_LH_Nissl_2.qpproj\n",
      "ProjectQuPath_01413827_LH_Nissl_2_old.qpproj\n",
      "ProjectQuPath_01413828_RH_Nissl_2.qpproj\n",
      "ProjectQuPath_1443460_LH_Nissl_5.qpproj\n",
      "ProjectQuPath_1443459_LH_Nissl_5.qpproj\n",
      "ProjectQuPath_1413828_LH_Nissl_3.qpproj\n",
      "ProjectQuPath_1449922_RH_Nissl_6.qpproj\n",
      "ProjectQuPath_1449921_LH_Nissl_6.qpproj\n",
      "ProjectQuPath_1449921_RH_Nissl_6.qpproj\n",
      "ProjectQuPath_1449920_RH_Nissl_6_EXCLUDE.qpproj\n",
      "ProjectQuPath_1449920_LH_Nissl_6.qpproj\n",
      "ProjectQuPath_1449922_LH_Nissl_6.qpproj\n"
     ]
    }
   ],
   "source": [
    "for project in qupath_project_list:\n",
    "    print(project.split('/')[-1])"
   ]
  },
  {
   "cell_type": "code",
   "execution_count": null,
   "metadata": {},
   "outputs": [],
   "source": []
  }
 ],
 "metadata": {
  "kernelspec": {
   "display_name": "Python 3 (ipykernel)",
   "language": "python",
   "name": "python3"
  },
  "language_info": {
   "codemirror_mode": {
    "name": "ipython",
    "version": 3
   },
   "file_extension": ".py",
   "mimetype": "text/x-python",
   "name": "python",
   "nbconvert_exporter": "python",
   "pygments_lexer": "ipython3",
   "version": "3.10.12"
  }
 },
 "nbformat": 4,
 "nbformat_minor": 4
}
