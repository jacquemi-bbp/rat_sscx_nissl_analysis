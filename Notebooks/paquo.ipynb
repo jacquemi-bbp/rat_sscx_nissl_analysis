{
 "cells": [
  {
   "cell_type": "code",
   "execution_count": null,
   "id": "3c480e99",
   "metadata": {},
   "outputs": [],
   "source": [
    "import pandas as pd\n",
    "from paquo.projects import QuPathProject\n",
    "\n",
    "from pathlib import Path\n",
    "from paquo.projects import QuPathProject\n",
    "from paquo.images import QuPathImageType\n",
    "from paquo.classes import QuPathPathClass\n",
    "from shapely.geometry import Point, Polygon \n",
    "import numpy as np\n",
    "import matplotlib.pyplot as plt\n",
    "from distutils.dir_util import copy_tree\n"
   ]
  },
  {
   "cell_type": "code",
   "execution_count": null,
   "id": "201f4cc8",
   "metadata": {},
   "outputs": [],
   "source": [
    "ml_result = pd.read_csv('../../ML_Layer_prediction/test_features_with_prediction.csv')\n",
    "image_name='SLD_0000733.vsi - 20x_01'\n",
    "pixel_size = 0.3460130331522824\n",
    "\n",
    "\n",
    "layers_color = {\"Layer 1\": \"#ff0000\"\n",
    "                , \"Layer 2\":\"#00ff00\"\n",
    "                , \"Layer 3\":\"#0000ff\"\n",
    "                , \"Layer 2/3\":\"#ffff00\"\n",
    "                ,  \"Layer 4\":\"#00ffff\"\n",
    "                , \"Layer 5\":\"#f0f0f0\"\n",
    "                , \"Layer 6 a\":\"#0ffff0\"\n",
    "                , \"Layer 6 b\":\"#000000\"\n",
    "               }"
   ]
  },
  {
   "cell_type": "code",
   "execution_count": null,
   "id": "90874729",
   "metadata": {},
   "outputs": [],
   "source": [
    "annotations = {}\n",
    "for layer in [\"Layer 1\", \"Layer 2\", \"Layer 3\", \"Layer 2/3\",  \"Layer 4\", \"Layer 5\", \"Layer 6 a\", \"Layer 6 b\"]:\n",
    "    print(f'{layer}')\n",
    "    layer_points = ml_result[ml_result['Class'] == layer][['Centroid X µm', 'Centroid Y µm']].to_numpy()\n",
    "    if layer_points.size > 0:\n",
    "        layer_points = layer_points / pixel_size\n",
    "        layer_polygon = Polygon(layer_points)\n",
    "        layer_polygon = Polygon(layer_polygon.convex_hull)\n",
    "\n",
    "        x, y = layer_polygon.exterior.xy\n",
    "        plt.plot(x, y, c=\"red\")\n",
    "        plt.show()\n",
    "\n",
    "        annotation = {\n",
    "            f'{layer}': layer_polygon,\n",
    "\n",
    "        }\n",
    "        annotations[layer] = annotation\n",
    "\n",
    "\n",
    "# \n"
   ]
  },
  {
   "cell_type": "code",
   "execution_count": null,
   "id": "7ec7581f",
   "metadata": {},
   "outputs": [],
   "source": [
    "copy_tree('./project.bck', 'project')\n",
    "project_path = './project/QuPath_LayerBoundaries_GroundTruth_20220927.qpproj'\n",
    "with QuPathProject(project_path, mode='r+') as qp:\n",
    "    print(\"readed\", qp.name)\n",
    "\n",
    "    \n",
    "    \n",
    "    print(f'---INFO: there are {len(qp.images)}  images in this project')\n",
    "    \n",
    "    for image in qp.images:\n",
    "        if image.image_name.find(image_name) > -1:\n",
    "            print(f'--- INFO: Found [{image.image_name}] ')\n",
    "            for name, annotation in annotations.items():\n",
    "                for name, roi in annotation.items():\n",
    "                # add the annotations without a class set\n",
    "                    \n",
    "                    path_class =QuPathPathClass(name=name, color=layers_color[name])\n",
    "                    print(f'{name} -> {layers_color[name]}')\n",
    "                    annotation = image.hierarchy.add_annotation(roi=roi, path_class=path_class)\n",
    "                    annotation.name = name\n",
    "                    \n",
    "            \n",
    "            "
   ]
  },
  {
   "cell_type": "code",
   "execution_count": null,
   "id": "511748da",
   "metadata": {},
   "outputs": [],
   "source": []
  },
  {
   "cell_type": "code",
   "execution_count": null,
   "id": "3c71a3bf",
   "metadata": {},
   "outputs": [],
   "source": []
  }
 ],
 "metadata": {
  "kernelspec": {
   "display_name": "Python 3 (ipykernel)",
   "language": "python",
   "name": "python3"
  },
  "language_info": {
   "codemirror_mode": {
    "name": "ipython",
    "version": 3
   },
   "file_extension": ".py",
   "mimetype": "text/x-python",
   "name": "python",
   "nbconvert_exporter": "python",
   "pygments_lexer": "ipython3",
   "version": "3.10.12"
  }
 },
 "nbformat": 4,
 "nbformat_minor": 5
}
