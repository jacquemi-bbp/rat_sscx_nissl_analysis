{
 "cells": [
  {
   "cell_type": "code",
   "execution_count": 1,
   "id": "83b7ccfb",
   "metadata": {},
   "outputs": [],
   "source": [
    "import pandas as pd\n",
    "import numpy as np"
   ]
  },
  {
   "cell_type": "code",
   "execution_count": 2,
   "id": "b8afff54",
   "metadata": {},
   "outputs": [],
   "source": [
    "df1=pd.read_pickle('../../Results/Layer_Boundaries/PlanB/March_22/L23/Boundaries/boundary_l23_03_23_22.pkl')\n",
    "df2=pd.read_pickle('../../Results/Layer_Boundaries/PlanB/March_22/Normal/Boundaries/boundary_l23_03_23_22.pkl')"
   ]
  },
  {
   "cell_type": "code",
   "execution_count": 3,
   "id": "db4132dd",
   "metadata": {},
   "outputs": [
    {
     "name": "stderr",
     "output_type": "stream",
     "text": [
      "/tmp/ipykernel_8413/3407272814.py:1: FutureWarning: The frame.append method is deprecated and will be removed from pandas in a future version. Use pandas.concat instead.\n",
      "  df = df1.append(df2, ignore_index=True)\n"
     ]
    }
   ],
   "source": [
    "df = df1.append(df2, ignore_index=True)\n",
    "final_result = df.groupby(['animal', 'Layer'], as_index=False)['Layer bottom (um). Origin is top of layer 1'].mean()\n",
    "final_result.to_pickle('../../Results/Layer_Boundaries/PlanB/March_22/layer_boundary_per_animal.pkl')\n",
    "final_result.to_excel('../../Results/Layer_Boundaries/PlanB/March_22/layer_boundary_per_animal.xlsx', header=True, index=False)"
   ]
  }
 ],
 "metadata": {
  "kernelspec": {
   "display_name": "Python 3 (ipykernel)",
   "language": "python",
   "name": "python3"
  },
  "language_info": {
   "codemirror_mode": {
    "name": "ipython",
    "version": 3
   },
   "file_extension": ".py",
   "mimetype": "text/x-python",
   "name": "python",
   "nbconvert_exporter": "python",
   "pygments_lexer": "ipython3",
   "version": "3.8.10"
  }
 },
 "nbformat": 4,
 "nbformat_minor": 5
}
