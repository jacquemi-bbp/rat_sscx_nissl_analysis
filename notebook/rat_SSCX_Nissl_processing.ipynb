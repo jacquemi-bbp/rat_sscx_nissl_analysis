{
 "cells": [
  {
   "cell_type": "code",
   "execution_count": 1,
   "metadata": {},
   "outputs": [],
   "source": [
    "import numpy as np\n",
    "import matplotlib.pyplot as plt\n",
    "\n",
    "import pandas as pd\n",
    "import csv\n",
    "import openpyxl\n",
    "from itertools import islice\n",
    "\n",
    "import geojson\n",
    "from shapely.geometry import Polygon, LineString\n",
    "from shapely.ops import split\n",
    "from shapely.geometry import Point, LineString, Polygon"
   ]
  },
  {
   "cell_type": "markdown",
   "metadata": {},
   "source": [
    "# Convert QuPath Cell detection data to pandas\n",
    "### 404_cell_position.txt are created thanks to QuPath script: export-annotation_geojson.groovy"
   ]
  },
  {
   "cell_type": "code",
   "execution_count": 2,
   "metadata": {},
   "outputs": [],
   "source": [
    "input_file = '../Results/404_cell_position.txt'\n",
    "\n",
    "wb = openpyxl.Workbook()\n",
    "ws = wb.worksheets[0]\n",
    "\n",
    "with open(input_file, 'r') as data:\n",
    "    reader = csv.reader(data, delimiter='\\t')\n",
    "    for row in reader:\n",
    "        ws.append(row) "
   ]
  },
  {
   "cell_type": "code",
   "execution_count": 3,
   "metadata": {},
   "outputs": [],
   "source": [
    "data = ws.values\n",
    "cols = next(data)[1:]\n",
    "data = list(data)\n",
    "idx = [r[0] for r in data]\n",
    "data = (islice(r, 1, None) for r in data)\n",
    "df_404 = pd.DataFrame(data, index=idx, columns=cols)"
   ]
  },
  {
   "cell_type": "code",
   "execution_count": 4,
   "metadata": {},
   "outputs": [
    {
     "data": {
      "text/html": [
       "<div>\n",
       "<style scoped>\n",
       "    .dataframe tbody tr th:only-of-type {\n",
       "        vertical-align: middle;\n",
       "    }\n",
       "\n",
       "    .dataframe tbody tr th {\n",
       "        vertical-align: top;\n",
       "    }\n",
       "\n",
       "    .dataframe thead th {\n",
       "        text-align: right;\n",
       "    }\n",
       "</style>\n",
       "<table border=\"1\" class=\"dataframe\">\n",
       "  <thead>\n",
       "    <tr style=\"text-align: right;\">\n",
       "      <th></th>\n",
       "      <th>Name</th>\n",
       "      <th>Class</th>\n",
       "      <th>Parent</th>\n",
       "      <th>ROI</th>\n",
       "      <th>Centroid X µm</th>\n",
       "      <th>Centroid Y µm</th>\n",
       "      <th>Detection probability</th>\n",
       "      <th>Area µm^2</th>\n",
       "      <th>Length µm</th>\n",
       "      <th>Circularity</th>\n",
       "      <th>...</th>\n",
       "      <th>Hematoxylin: Mean</th>\n",
       "      <th>Hematoxylin: Median</th>\n",
       "      <th>Hematoxylin: Min</th>\n",
       "      <th>Hematoxylin: Max</th>\n",
       "      <th>Hematoxylin: Std.Dev.</th>\n",
       "      <th>DAB: Mean</th>\n",
       "      <th>DAB: Median</th>\n",
       "      <th>DAB: Min</th>\n",
       "      <th>DAB: Max</th>\n",
       "      <th>DAB: Std.Dev.</th>\n",
       "    </tr>\n",
       "  </thead>\n",
       "  <tbody>\n",
       "    <tr>\n",
       "      <th>SLD_0000404.vsi - 20x_01</th>\n",
       "      <td>PathDetectionObject</td>\n",
       "      <td></td>\n",
       "      <td>S1</td>\n",
       "      <td>Polygon</td>\n",
       "      <td>10994.1</td>\n",
       "      <td>1579.9</td>\n",
       "      <td>0.9553</td>\n",
       "      <td>204.0999</td>\n",
       "      <td>51.3083</td>\n",
       "      <td>0.9743</td>\n",
       "      <td>...</td>\n",
       "      <td>0.4352</td>\n",
       "      <td>0.4596</td>\n",
       "      <td>0.0985</td>\n",
       "      <td>0.6285</td>\n",
       "      <td>0.1088</td>\n",
       "      <td>-0.0564</td>\n",
       "      <td>-0.065</td>\n",
       "      <td>-0.1214</td>\n",
       "      <td>0.0345</td>\n",
       "      <td>0.0307</td>\n",
       "    </tr>\n",
       "    <tr>\n",
       "      <th>SLD_0000404.vsi - 20x_01</th>\n",
       "      <td>PathDetectionObject</td>\n",
       "      <td></td>\n",
       "      <td>S1</td>\n",
       "      <td>Polygon</td>\n",
       "      <td>10338.3</td>\n",
       "      <td>1086.9</td>\n",
       "      <td>0.9483</td>\n",
       "      <td>141.9265</td>\n",
       "      <td>42.9522</td>\n",
       "      <td>0.9667</td>\n",
       "      <td>...</td>\n",
       "      <td>0.3894</td>\n",
       "      <td>0.3993</td>\n",
       "      <td>0.0851</td>\n",
       "      <td>0.7853</td>\n",
       "      <td>0.1471</td>\n",
       "      <td>-0.0271</td>\n",
       "      <td>-0.0311</td>\n",
       "      <td>-0.0993</td>\n",
       "      <td>0.0558</td>\n",
       "      <td>0.0345</td>\n",
       "    </tr>\n",
       "    <tr>\n",
       "      <th>SLD_0000404.vsi - 20x_01</th>\n",
       "      <td>PathDetectionObject</td>\n",
       "      <td></td>\n",
       "      <td>S1</td>\n",
       "      <td>Polygon</td>\n",
       "      <td>10910</td>\n",
       "      <td>1918.6</td>\n",
       "      <td>0.9421</td>\n",
       "      <td>78.139</td>\n",
       "      <td>31.9661</td>\n",
       "      <td>0.9609</td>\n",
       "      <td>...</td>\n",
       "      <td>0.3618</td>\n",
       "      <td>0.4018</td>\n",
       "      <td>0.1157</td>\n",
       "      <td>0.5214</td>\n",
       "      <td>0.1028</td>\n",
       "      <td>-0.0338</td>\n",
       "      <td>-0.0439</td>\n",
       "      <td>-0.0819</td>\n",
       "      <td>0.0481</td>\n",
       "      <td>0.0311</td>\n",
       "    </tr>\n",
       "    <tr>\n",
       "      <th>SLD_0000404.vsi - 20x_01</th>\n",
       "      <td>PathDetectionObject</td>\n",
       "      <td></td>\n",
       "      <td>S1</td>\n",
       "      <td>Polygon</td>\n",
       "      <td>10814.4</td>\n",
       "      <td>1857.8</td>\n",
       "      <td>0.9394</td>\n",
       "      <td>106.109</td>\n",
       "      <td>36.9105</td>\n",
       "      <td>0.9787</td>\n",
       "      <td>...</td>\n",
       "      <td>0.3775</td>\n",
       "      <td>0.4081</td>\n",
       "      <td>0.0821</td>\n",
       "      <td>0.5759</td>\n",
       "      <td>0.1284</td>\n",
       "      <td>-0.0219</td>\n",
       "      <td>-0.0319</td>\n",
       "      <td>-0.077</td>\n",
       "      <td>0.0661</td>\n",
       "      <td>0.035</td>\n",
       "    </tr>\n",
       "    <tr>\n",
       "      <th>SLD_0000404.vsi - 20x_01</th>\n",
       "      <td>PathDetectionObject</td>\n",
       "      <td></td>\n",
       "      <td>S1</td>\n",
       "      <td>Polygon</td>\n",
       "      <td>10864.3</td>\n",
       "      <td>860.66</td>\n",
       "      <td>0.9386</td>\n",
       "      <td>150.2629</td>\n",
       "      <td>44.0608</td>\n",
       "      <td>0.9727</td>\n",
       "      <td>...</td>\n",
       "      <td>0.3957</td>\n",
       "      <td>0.4206</td>\n",
       "      <td>0.1099</td>\n",
       "      <td>0.6633</td>\n",
       "      <td>0.1043</td>\n",
       "      <td>-0.047</td>\n",
       "      <td>-0.0589</td>\n",
       "      <td>-0.1084</td>\n",
       "      <td>0.0572</td>\n",
       "      <td>0.0359</td>\n",
       "    </tr>\n",
       "    <tr>\n",
       "      <th>...</th>\n",
       "      <td>...</td>\n",
       "      <td>...</td>\n",
       "      <td>...</td>\n",
       "      <td>...</td>\n",
       "      <td>...</td>\n",
       "      <td>...</td>\n",
       "      <td>...</td>\n",
       "      <td>...</td>\n",
       "      <td>...</td>\n",
       "      <td>...</td>\n",
       "      <td>...</td>\n",
       "      <td>...</td>\n",
       "      <td>...</td>\n",
       "      <td>...</td>\n",
       "      <td>...</td>\n",
       "      <td>...</td>\n",
       "      <td>...</td>\n",
       "      <td>...</td>\n",
       "      <td>...</td>\n",
       "      <td>...</td>\n",
       "      <td>...</td>\n",
       "    </tr>\n",
       "    <tr>\n",
       "      <th>SLD_0000404.vsi - 20x_01</th>\n",
       "      <td>PathDetectionObject</td>\n",
       "      <td></td>\n",
       "      <td>S1</td>\n",
       "      <td>Polygon</td>\n",
       "      <td>10156</td>\n",
       "      <td>1380.9</td>\n",
       "      <td>0.4702</td>\n",
       "      <td>29.2688</td>\n",
       "      <td>19.9869</td>\n",
       "      <td>0.9207</td>\n",
       "      <td>...</td>\n",
       "      <td>0.4403</td>\n",
       "      <td>0.4262</td>\n",
       "      <td>0.2824</td>\n",
       "      <td>0.6486</td>\n",
       "      <td>0.1003</td>\n",
       "      <td>-0.0518</td>\n",
       "      <td>-0.0514</td>\n",
       "      <td>-0.0971</td>\n",
       "      <td>-0.0153</td>\n",
       "      <td>0.0195</td>\n",
       "    </tr>\n",
       "    <tr>\n",
       "      <th>SLD_0000404.vsi - 20x_01</th>\n",
       "      <td>PathDetectionObject</td>\n",
       "      <td></td>\n",
       "      <td>S1</td>\n",
       "      <td>Polygon</td>\n",
       "      <td>11446.9</td>\n",
       "      <td>1269.3</td>\n",
       "      <td>0.4702</td>\n",
       "      <td>20.3005</td>\n",
       "      <td>19.4503</td>\n",
       "      <td>0.6743</td>\n",
       "      <td>...</td>\n",
       "      <td>0.3809</td>\n",
       "      <td>0.3806</td>\n",
       "      <td>0.2474</td>\n",
       "      <td>0.6075</td>\n",
       "      <td>0.0756</td>\n",
       "      <td>-0.0391</td>\n",
       "      <td>-0.0442</td>\n",
       "      <td>-0.0832</td>\n",
       "      <td>0.0154</td>\n",
       "      <td>0.0245</td>\n",
       "    </tr>\n",
       "    <tr>\n",
       "      <th>SLD_0000404.vsi - 20x_01</th>\n",
       "      <td>PathDetectionObject</td>\n",
       "      <td></td>\n",
       "      <td>S1</td>\n",
       "      <td>Polygon</td>\n",
       "      <td>10433.2</td>\n",
       "      <td>2023.4</td>\n",
       "      <td>0.47</td>\n",
       "      <td>23.5266</td>\n",
       "      <td>21.2471</td>\n",
       "      <td>0.6549</td>\n",
       "      <td>...</td>\n",
       "      <td>0.5055</td>\n",
       "      <td>0.4886</td>\n",
       "      <td>0.3132</td>\n",
       "      <td>0.7993</td>\n",
       "      <td>0.106</td>\n",
       "      <td>-0.0701</td>\n",
       "      <td>-0.067</td>\n",
       "      <td>-0.1213</td>\n",
       "      <td>-0.0357</td>\n",
       "      <td>0.0233</td>\n",
       "    </tr>\n",
       "    <tr>\n",
       "      <th>SLD_0000404.vsi - 20x_01</th>\n",
       "      <td>PathDetectionObject</td>\n",
       "      <td></td>\n",
       "      <td>S1</td>\n",
       "      <td>Polygon</td>\n",
       "      <td>10584.6</td>\n",
       "      <td>890.43</td>\n",
       "      <td>0.47</td>\n",
       "      <td>31.5718</td>\n",
       "      <td>28.3127</td>\n",
       "      <td>0.4949</td>\n",
       "      <td>...</td>\n",
       "      <td>0.4108</td>\n",
       "      <td>0.4176</td>\n",
       "      <td>0.2208</td>\n",
       "      <td>0.6116</td>\n",
       "      <td>0.1034</td>\n",
       "      <td>-0.0454</td>\n",
       "      <td>-0.0477</td>\n",
       "      <td>-0.077</td>\n",
       "      <td>0.0031</td>\n",
       "      <td>0.0165</td>\n",
       "    </tr>\n",
       "    <tr>\n",
       "      <th>SLD_0000404.vsi - 20x_01</th>\n",
       "      <td>PathDetectionObject</td>\n",
       "      <td></td>\n",
       "      <td>S1</td>\n",
       "      <td>Polygon</td>\n",
       "      <td>10463.5</td>\n",
       "      <td>2077.9</td>\n",
       "      <td>0.47</td>\n",
       "      <td>25.1783</td>\n",
       "      <td>19.5764</td>\n",
       "      <td>0.8256</td>\n",
       "      <td>...</td>\n",
       "      <td>0.2992</td>\n",
       "      <td>0.2943</td>\n",
       "      <td>0.1678</td>\n",
       "      <td>0.4378</td>\n",
       "      <td>0.0647</td>\n",
       "      <td>-0.0176</td>\n",
       "      <td>-0.0202</td>\n",
       "      <td>-0.0516</td>\n",
       "      <td>0.0353</td>\n",
       "      <td>0.0179</td>\n",
       "    </tr>\n",
       "  </tbody>\n",
       "</table>\n",
       "<p>12487 rows × 23 columns</p>\n",
       "</div>"
      ],
      "text/plain": [
       "                                         Name Class Parent      ROI  \\\n",
       "SLD_0000404.vsi - 20x_01  PathDetectionObject           S1  Polygon   \n",
       "SLD_0000404.vsi - 20x_01  PathDetectionObject           S1  Polygon   \n",
       "SLD_0000404.vsi - 20x_01  PathDetectionObject           S1  Polygon   \n",
       "SLD_0000404.vsi - 20x_01  PathDetectionObject           S1  Polygon   \n",
       "SLD_0000404.vsi - 20x_01  PathDetectionObject           S1  Polygon   \n",
       "...                                       ...   ...    ...      ...   \n",
       "SLD_0000404.vsi - 20x_01  PathDetectionObject           S1  Polygon   \n",
       "SLD_0000404.vsi - 20x_01  PathDetectionObject           S1  Polygon   \n",
       "SLD_0000404.vsi - 20x_01  PathDetectionObject           S1  Polygon   \n",
       "SLD_0000404.vsi - 20x_01  PathDetectionObject           S1  Polygon   \n",
       "SLD_0000404.vsi - 20x_01  PathDetectionObject           S1  Polygon   \n",
       "\n",
       "                         Centroid X µm Centroid Y µm Detection probability  \\\n",
       "SLD_0000404.vsi - 20x_01       10994.1        1579.9                0.9553   \n",
       "SLD_0000404.vsi - 20x_01       10338.3        1086.9                0.9483   \n",
       "SLD_0000404.vsi - 20x_01         10910        1918.6                0.9421   \n",
       "SLD_0000404.vsi - 20x_01       10814.4        1857.8                0.9394   \n",
       "SLD_0000404.vsi - 20x_01       10864.3        860.66                0.9386   \n",
       "...                                ...           ...                   ...   \n",
       "SLD_0000404.vsi - 20x_01         10156        1380.9                0.4702   \n",
       "SLD_0000404.vsi - 20x_01       11446.9        1269.3                0.4702   \n",
       "SLD_0000404.vsi - 20x_01       10433.2        2023.4                  0.47   \n",
       "SLD_0000404.vsi - 20x_01       10584.6        890.43                  0.47   \n",
       "SLD_0000404.vsi - 20x_01       10463.5        2077.9                  0.47   \n",
       "\n",
       "                         Area µm^2 Length µm Circularity  ...  \\\n",
       "SLD_0000404.vsi - 20x_01  204.0999   51.3083      0.9743  ...   \n",
       "SLD_0000404.vsi - 20x_01  141.9265   42.9522      0.9667  ...   \n",
       "SLD_0000404.vsi - 20x_01    78.139   31.9661      0.9609  ...   \n",
       "SLD_0000404.vsi - 20x_01   106.109   36.9105      0.9787  ...   \n",
       "SLD_0000404.vsi - 20x_01  150.2629   44.0608      0.9727  ...   \n",
       "...                            ...       ...         ...  ...   \n",
       "SLD_0000404.vsi - 20x_01   29.2688   19.9869      0.9207  ...   \n",
       "SLD_0000404.vsi - 20x_01   20.3005   19.4503      0.6743  ...   \n",
       "SLD_0000404.vsi - 20x_01   23.5266   21.2471      0.6549  ...   \n",
       "SLD_0000404.vsi - 20x_01   31.5718   28.3127      0.4949  ...   \n",
       "SLD_0000404.vsi - 20x_01   25.1783   19.5764      0.8256  ...   \n",
       "\n",
       "                         Hematoxylin: Mean Hematoxylin: Median  \\\n",
       "SLD_0000404.vsi - 20x_01            0.4352              0.4596   \n",
       "SLD_0000404.vsi - 20x_01            0.3894              0.3993   \n",
       "SLD_0000404.vsi - 20x_01            0.3618              0.4018   \n",
       "SLD_0000404.vsi - 20x_01            0.3775              0.4081   \n",
       "SLD_0000404.vsi - 20x_01            0.3957              0.4206   \n",
       "...                                    ...                 ...   \n",
       "SLD_0000404.vsi - 20x_01            0.4403              0.4262   \n",
       "SLD_0000404.vsi - 20x_01            0.3809              0.3806   \n",
       "SLD_0000404.vsi - 20x_01            0.5055              0.4886   \n",
       "SLD_0000404.vsi - 20x_01            0.4108              0.4176   \n",
       "SLD_0000404.vsi - 20x_01            0.2992              0.2943   \n",
       "\n",
       "                         Hematoxylin: Min Hematoxylin: Max  \\\n",
       "SLD_0000404.vsi - 20x_01           0.0985           0.6285   \n",
       "SLD_0000404.vsi - 20x_01           0.0851           0.7853   \n",
       "SLD_0000404.vsi - 20x_01           0.1157           0.5214   \n",
       "SLD_0000404.vsi - 20x_01           0.0821           0.5759   \n",
       "SLD_0000404.vsi - 20x_01           0.1099           0.6633   \n",
       "...                                   ...              ...   \n",
       "SLD_0000404.vsi - 20x_01           0.2824           0.6486   \n",
       "SLD_0000404.vsi - 20x_01           0.2474           0.6075   \n",
       "SLD_0000404.vsi - 20x_01           0.3132           0.7993   \n",
       "SLD_0000404.vsi - 20x_01           0.2208           0.6116   \n",
       "SLD_0000404.vsi - 20x_01           0.1678           0.4378   \n",
       "\n",
       "                         Hematoxylin: Std.Dev. DAB: Mean DAB: Median DAB: Min  \\\n",
       "SLD_0000404.vsi - 20x_01                0.1088   -0.0564      -0.065  -0.1214   \n",
       "SLD_0000404.vsi - 20x_01                0.1471   -0.0271     -0.0311  -0.0993   \n",
       "SLD_0000404.vsi - 20x_01                0.1028   -0.0338     -0.0439  -0.0819   \n",
       "SLD_0000404.vsi - 20x_01                0.1284   -0.0219     -0.0319   -0.077   \n",
       "SLD_0000404.vsi - 20x_01                0.1043    -0.047     -0.0589  -0.1084   \n",
       "...                                        ...       ...         ...      ...   \n",
       "SLD_0000404.vsi - 20x_01                0.1003   -0.0518     -0.0514  -0.0971   \n",
       "SLD_0000404.vsi - 20x_01                0.0756   -0.0391     -0.0442  -0.0832   \n",
       "SLD_0000404.vsi - 20x_01                 0.106   -0.0701      -0.067  -0.1213   \n",
       "SLD_0000404.vsi - 20x_01                0.1034   -0.0454     -0.0477   -0.077   \n",
       "SLD_0000404.vsi - 20x_01                0.0647   -0.0176     -0.0202  -0.0516   \n",
       "\n",
       "                         DAB: Max DAB: Std.Dev.  \n",
       "SLD_0000404.vsi - 20x_01   0.0345        0.0307  \n",
       "SLD_0000404.vsi - 20x_01   0.0558        0.0345  \n",
       "SLD_0000404.vsi - 20x_01   0.0481        0.0311  \n",
       "SLD_0000404.vsi - 20x_01   0.0661         0.035  \n",
       "SLD_0000404.vsi - 20x_01   0.0572        0.0359  \n",
       "...                           ...           ...  \n",
       "SLD_0000404.vsi - 20x_01  -0.0153        0.0195  \n",
       "SLD_0000404.vsi - 20x_01   0.0154        0.0245  \n",
       "SLD_0000404.vsi - 20x_01  -0.0357        0.0233  \n",
       "SLD_0000404.vsi - 20x_01   0.0031        0.0165  \n",
       "SLD_0000404.vsi - 20x_01   0.0353        0.0179  \n",
       "\n",
       "[12487 rows x 23 columns]"
      ]
     },
     "execution_count": 4,
     "metadata": {},
     "output_type": "execute_result"
    }
   ],
   "source": [
    "df_404"
   ]
  },
  {
   "cell_type": "code",
   "execution_count": 5,
   "metadata": {},
   "outputs": [],
   "source": [
    "cells_centroid_x = df_404['Centroid X µm'].to_numpy(dtype=float)\n",
    "cells_centroid_y = df_404['Centroid Y µm'].to_numpy(dtype=float)"
   ]
  },
  {
   "cell_type": "markdown",
   "metadata": {},
   "source": [
    "# Convert QuPath S1 annotation to polygon \n",
    "## S1 data are create thanks to Quath script "
   ]
  },
  {
   "cell_type": "code",
   "execution_count": 6,
   "metadata": {},
   "outputs": [],
   "source": [
    "'''\n",
    "with open('/tmp/pixel_size.txt', 'r') as f:\n",
    "    pixel_size = float(f.readline())\n",
    "print(\"pixel size:\", pixel_size)\n",
    "'''\n",
    "pixel_size = 0.3460130331522824"
   ]
  },
  {
   "cell_type": "code",
   "execution_count": 7,
   "metadata": {},
   "outputs": [],
   "source": [
    "s1_geo = geojson.load(open('../Results/S1.geojson','rb'))\n",
    "s1_coordinates = np.array(s1_geo[\"features\"][0][\"geometry\"][\"coordinates\"][0]) * pixel_size"
   ]
  },
  {
   "cell_type": "markdown",
   "metadata": {},
   "source": [
    "#  analyse"
   ]
  },
  {
   "cell_type": "code",
   "execution_count": 57,
   "metadata": {},
   "outputs": [
    {
     "name": "stdout",
     "output_type": "stream",
     "text": [
      "button 255.3576184663844, top 2615.858530631255\n"
     ]
    }
   ],
   "source": [
    "s1_button=s1_coordinates[:,1].min()\n",
    "s1_top=s1_coordinates[:,1].max()\n",
    "print('button {}, top {}'.format(s1_button, s1_top))\n",
    "z_length = 50 # um\n",
    "nb_slice = 10"
   ]
  },
  {
   "cell_type": "markdown",
   "metadata": {},
   "source": [
    "# compute fractions"
   ]
  },
  {
   "cell_type": "code",
   "execution_count": 58,
   "metadata": {},
   "outputs": [],
   "source": [
    "s1_length = s1_top - s1_button\n",
    "fractions=np.zeros(cells_centroid_y.shape[0], dtype=float)\n",
    "for index, point in enumerate(cells_centroid_y):\n",
    "    fractions[index]=(point-s1_button) / (s1_length)"
   ]
  },
  {
   "cell_type": "markdown",
   "metadata": {},
   "source": [
    "# Plot positions and fraction histogram"
   ]
  },
  {
   "cell_type": "code",
   "execution_count": 59,
   "metadata": {},
   "outputs": [
    {
     "data": {
      "image/png": "[encoded data removed]",
      "text/plain": [
       "<Figure size 432x288 with 2 Axes>"
      ]
     },
     "metadata": {
      "needs_background": "light"
     },
     "output_type": "display_data"
    }
   ],
   "source": [
    "plt.subplot(121)\n",
    "plt.gca().invert_yaxis()\n",
    "plt.plot(s1_coordinates[:,0], s1_coordinates[:,1], 'r')\n",
    "_ = plt.scatter(cells_centroid_x, cells_centroid_y, s=1)\n",
    "plt.subplot(122)\n",
    "fract_hist = plt.hist(fractions, nb_slice, orientation='horizontal')"
   ]
  },
  {
   "cell_type": "code",
   "execution_count": 60,
   "metadata": {},
   "outputs": [],
   "source": [
    "nb_points_per_bin = fract_hist[0]"
   ]
  },
  {
   "cell_type": "markdown",
   "metadata": {},
   "source": [
    "# Create lines to split S1"
   ]
  },
  {
   "cell_type": "code",
   "execution_count": 61,
   "metadata": {},
   "outputs": [],
   "source": [
    "slice_y_length = s1_length / nb_slice\n",
    "split_lines_y_coord = np.arange(s1_button + slice_y_length, s1_top, slice_y_length)\n",
    "\n",
    "s1_x_min = 0.#s1_coordinates[:,0].min()\n",
    "s1_x_max = 15000# s1_coordinates[:,0].max()\n",
    "split_lines = []\n",
    "for split_line_y_coord in split_lines_y_coord:\n",
    "    split_lines.append(LineString([[s1_x_min-1, split_line_y_coord], [s1_x_max+1, split_line_y_coord]]))"
   ]
  },
  {
   "cell_type": "markdown",
   "metadata": {},
   "source": [
    "# split S1 polygon in layers"
   ]
  },
  {
   "cell_type": "code",
   "execution_count": 62,
   "metadata": {},
   "outputs": [
    {
     "data": {
      "image/svg+xml": [
       "<svg xmlns=\"http://www.w3.org/2000/svg\" xmlns:xlink=\"http://www.w3.org/1999/xlink\" width=\"300\" height=\"300\" viewBox=\"9927.155442702959 160.93758197978957 1732.497637384473 2549.3409851380598\" preserveAspectRatio=\"xMinYMin meet\"><g transform=\"matrix(1,0,0,-1,0,2871.216149097639)\"><path fill-rule=\"evenodd\" fill=\"#66cc99\" stroke=\"#555555\" stroke-width=\"16.995606567587064\" opacity=\"0.6\" d=\"M 10834.360094064266,255.3576184663844 L 10831.18715455026,255.63442889290621 L 10826.401794301762,256.04964453268894 L 10818.44349453926,258.47173576475495 L 10815.402039977853,260.146438845212 L 10811.523233876214,262.27787912943006 L 10807.800133639497,265.381616036806 L 10807.796673509165,265.3850761671375 L 10804.744838556762,267.0597792475946 L 10804.60297321317,267.122061593562 L 10804.4195863056,267.23970602483377 L 10804.19121770372,267.3677308471001 L 10800.450816815342,268.5061137261711 L 10799.838373746663,268.84174636832887 L 10795.260621318059,270.2361788919325 L 10793.952692052742,270.9558860008893 L 10788.340360655013,274.04232225660763 L 10786.752160832842,275.3640920432494 L 10783.49617819088,277.1564395549782 L 10778.29214217227,281.49198286037625 L 10777.29216450646,282.3258742702733 L 10773.807813262616,283.38467415171925 L 10771.129672386018,284.858689672948 L 10770.219658108828,285.22892361842094 L 10769.655656864788,285.46075235063296 L 10767.437713322282,286.6925587486551 L 10765.610764507239,287.24963973203023 L 10763.527766047662,287.8828435826989 L 10718.0997149251,287.8828435826989 L 10718.0997149251,282.86565460199085 L 10718.0997149251,276.8104265218259 L 10698.999795495092,276.8104265218259 L 10697.338932935962,278.19447865443504 L 10694.47048489113,279.7722980856094 L 10690.418672272916,282.00062201911015 L 10685.121212735354,283.61304275359976 L 10683.152398576718,284.329289732225 L 10680.3842943115,285.46075235063296 L 10679.367015994032,285.63721899754063 L 10673.810046681607,287.10085412777477 L 10673.810046681607,287.8828435826989 L 10671.041942416388,287.8828435826989 L 10667.927825118019,288.1527337485577 L 10665.505733885951,288.5748696490035 L 10663.893313151462,288.50566704237303 L 10663.841411196488,288.50912717270455 L 10661.353577488124,289.26689571530807 L 10656.509395023993,289.6890316157539 L 10654.43331682508,289.9589217816126 L 10653.91429727535,289.9139400873028 L 10653.395277725622,289.9589217816126 L 10627.036004860081,289.9589217816126 L 10626.406261139744,290.3049348147649 L 10620.78354935102,292.01769932886873 L 10618.447961377242,292.7270260468309 L 10610.48966161474,293.4190521131355 L 10578.950573642907,293.4190521131355 L 10575.542345266358,294.45709121259233 L 10567.584045503856,295.1491172788969 L 10529.176598823953,295.1491172788969 L 10524.931018907175,296.43974589255487 L 10524.678429392972,296.533169411506 L 10524.505422876397,296.57123084515274 L 10522.05911073201,297.3151588664302 L 10521.218299061451,297.57120851096283 L 10519.60587832696,297.70961372422374 L 10519.60587832696,297.71307385455526 L 10519.028036561596,297.7615156791966 L 10516.72012963047,298.2632345772674 L 10514.412222699346,298.16289079765323 L 10513.259999298947,298.2632345772674 L 10508.367375010175,298.2632345772674 L 10504.955686503294,297.2251954778106 L 10499.073464939704,296.71309618874517 L 10497.689412807094,296.533169411506 L 10497.343399773943,296.5643105844897 L 10496.99738674079,296.533169411506 L 10473.814513519588,296.533169411506 L 10465.856213757084,297.2251954778106 L 10463.178072880486,298.04178623605 L 10457.897913994582,299.64728670987654 L 10450.977653331536,303.45343007455165 L 10450.683542253359,303.6990993280898 L 10448.420617016542,305.5848703587697 L 10447.240712573492,306.5675473729222 L 10439.21321020436,306.5675473729222 L 10436.071411863337,306.84089766911245 L 10436.029890299358,306.844357799444 L 10434.369027740227,306.91356040607445 L 10433.832707538842,307.03466496767777 L 10431.265290832851,307.25957343922676 L 10431.254910441858,307.25957343922676 L 10428.905481946753,307.975820417852 L 10427.843221934974,308.2976125386836 L 10380.072662577972,308.2976125386836 L 10379.006942435863,307.60558647237906 L 10378.643628751053,307.4741015197812 L 10378.314916369558,307.25957343922676 L 10371.04864267336,304.4914691740085 L 10368.706134438919,303.8686457143344 L 10366.55047324238,302.0693779419425 L 10365.284065541044,301.3738917453064 L 10364.820408076619,301.0313388424857 L 10363.647423894232,300.4742578591105 L 10362.671667140743,299.9379376577245 L 10360.356839948954,298.66460969572404 L 10359.630212579334,298.2632345772674 L 10357.903607543903,297.73729476687595 L 10357.554134380422,297.57120851096283 L 10356.170082247812,297.2113549564845 L 10351.671912816832,295.84114334520143 L 10350.547370459088,295.7442596959188 L 10349.595834617918,295.4951303120491 L 10345.789691253243,295.32904405613607 L 10343.71361305433,295.1491172788969 L 10325.720935330412,295.1491172788969 L 10317.762635567908,295.84114334520143 L 10313.783485686658,297.05218896123444 L 10311.295651978293,297.80995750383795 L 10309.804335805406,298.2632345772674 L 10085.241877289574,298.2632345772674 L 10082.058557384573,298.5400450037892 L 10080.397694825442,298.6092476104197 L 10079.861374624057,298.730352172023 L 10077.283577527072,298.955260643572 L 10073.87188902019,299.99329974302884 L 10021.634301405189,299.99329974302884 L 10021.575479189554,300.6853258093334 L 10021.575479189554,303.10741704139934 L 10022.613518289012,315.2178732017292 L 10026.073648620535,326.63630329575454 L 10030.74828469842,334.885254006105 L 10262.345188178238,2615.858530631255 L 10793.665501235226,2615.858530631255 L 10795.60663435121,2614.820491531798 L 10833.668067997962,2603.4020614377728 L 10864.830001763656,2600.3952081796792 L 10868.26937131319,2598.5578789736405 L 10879.210303421465,2595.2742152890255 L 10889.030153302327,2591.2916052774426 L 10898.123375813568,2589.60306167566 L 10906.33080495994,2587.1394488796154 L 10916.818459994787,2586.1290908228107 L 10928.129626048534,2584.0253315812447 L 10937.73148771851,2584.108374709201 L 10945.7762907393,2583.33330551494 L 10949.236421070824,2583.33330551494 L 10963.076942396914,2579.181149117113 L 10964.689363131405,2579.0254432521942 L 10973.457333391483,2574.336966652981 L 11011.518767038235,2562.9185365589556 L 11044.362324145048,2559.7490571752805 L 11046.559506905567,2558.5760729928943 L 11058.576539546944,2551.8461194980823 L 11060.067855719832,2551.3547809910065 L 11062.38268291162,2550.1160543323213 L 11078.005171358445,2545.4275777331077 L 11096.291960160544,2539.3896503046003 L 11099.267672245653,2539.0505575321113 L 11100.44411655837,2538.6976242382957 L 11112.900585751853,2537.4969590132573 L 11121.77928018254,2536.483140826121 L 11140.927641437189,2530.739324475793 L 11162.38390962296,2528.6701665375426 L 11167.570644989913,2525.8951420116614 L 11170.708983200604,2524.953986561487 L 11183.83325754807,2517.936842249159 L 11221.894691194822,2506.518412155134 L 11261.340176974183,2502.7122687904584 L 11270.817473952224,2502.7122687904584 L 11272.758607068208,2501.6742296910015 L 11285.23929717401,2497.930368672294 L 11298.363571521477,2493.0239038621944 L 11305.180028274577,2491.947803329091 L 11310.820040714958,2490.2557995969764 L 11323.86819219513,2488.996312156302 L 11332.88875196941,2487.5741985900463 L 11333.65690090301,2487.1416822986057 L 11335.148217075895,2486.6503437915294 L 11337.463044267684,2485.411617132844 L 11353.085532714511,2480.7231405336306 L 11371.372321516608,2474.6852131051237 L 11374.348033601716,2474.3461203326347 L 11375.524477914436,2473.993187038819 L 11387.980947107917,2472.7925218137807 L 11410.817807295969,2470.1870436741438 L 11413.101493314773,2470.366970451383 L 11414.969963693795,2470.1870436741438 L 11417.866092781282,2470.1870436741438 L 11434.692706583475,2461.190704812185 L 11472.754140230227,2449.772274718159 L 11492.743313155433,2447.8449821235013 L 11497.05117541818,2446.668537810783 L 11513.237665109044,2441.8139749556567 L 11515.735879208403,2441.57176583245 L 11517.389821506871,2441.121948889352 L 11533.998447098182,2439.810559493705 L 11552.683150888404,2438.007831590982 L 11565.233043600836,2438.007831590982 L 11435.080241180607,384.9775608155609 L 11437.325865765764,383.1471518701853 L 11436.768784782389,381.30636253381516 L 11435.730745682933,369.1959063734853 L 11435.730745682933,364.3517239093533 L 11435.730745682933,361.9296326772874 L 11435.730745682933,359.50754144522136 L 11435.730745682933,357.0854502131554 L 11435.730745682933,352.24126774902345 L 11435.730745682933,349.8191765169575 L 11435.730745682933,344.97499405282554 L 11435.730745682933,339.7847985555413 L 11435.730745682933,337.3627073234753 L 11435.730745682933,334.94061609140937 L 11435.730745682933,332.51852485934336 L 11435.730745682933,330.0964336272774 L 11435.730745682933,325.25225116314544 L 11435.730745682933,320.4080686990135 L 11436.204783538353,314.871860168577 L 11413.585911561186,314.871860168577 L 11408.04970303075,314.1798341022724 L 11402.859507533465,312.79578196966327 L 11402.458132415008,312.5501127161251 L 11400.783429334551,312.1037559033587 L 11400.485858126041,311.95497029910325 L 11399.745390235095,311.7577428702064 L 11398.247153801545,310.83388807168984 L 11395.93924687042,309.6816646712927 L 11394.80086399135,308.96887782299905 L 11391.44107743944,308.2976125386836 L 11387.980947107917,307.25957343922676 L 11383.136764643787,305.18349524031305 L 11380.3721205089,303.27004316698094 L 11379.911923174806,302.9863124797961 L 11375.178464881283,301.72336490879024 L 11370.680295450304,298.955260643572 L 11369.088635497803,297.6300307265987 L 11367.566178151934,297.2251954778106 L 11363.068008720953,294.45709121259233 L 11362.946904159351,294.3567474329782 L 11359.953891422583,293.0730390799832 L 11357.185787157365,291.15612687631955 L 11355.801735024756,290.3049348147649 L 11355.711771636135,290.23573220813444 L 11353.621852915894,288.60947095231876 L 11350.168642845038,286.2185208932365 L 11349.919513461167,286.1527784169375 L 11348.421277027617,285.22892361842094 L 11348.189448295405,285.11473931748066 L 11346.597788342906,284.13552243365973 L 11345.438644681846,283.422735585366 L 11343.691278864426,282.3466350522624 L 11342.743203153588,281.39855934142514 L 11341.729384966453,280.69615288412604 L 11341.615200665512,280.616569886501 L 11341.106561506778,280.18059346472916 L 11339.584104160907,279.775758215941 L 11338.847096400294,279.57853078704414 L 11338.670629753386,279.47126674676696 L 11334.002913936161,278.8865047207396 L 11329.165651732694,277.59587610708155 L 11328.812718438878,277.5024525881305 L 11328.25217732517,277.1564395549782 L 11308.743962516044,277.1564395549782 L 11303.55376701876,278.19447865443504 L 11303.152391900305,278.17025774211436 L 11299.747623654086,278.8865047207396 L 11298.387792433798,279.0664314979788 L 11294.5574281568,279.57853078704414 L 11294.32559942459,279.56469026571807 L 11294.21141512365,279.57853078704414 L 11273.10462010136,279.57853078704414 L 11270.509522352717,280.27055685334875 L 11269.644489769837,280.616569886501 L 11268.187774900267,280.90722083434895 L 11267.914424604076,280.9625829196533 L 11264.454294272553,281.65460898595785 L 11263.070242139944,281.5681057276698 L 11262.94913757834,281.58194624899585 L 11262.37821607364,281.65460898595785 L 11241.157236750409,281.65460898595785 L 11237.465277686675,282.3466350522624 L 11232.621095222543,282.6511265214364 L 11232.275082189391,282.6926480854147 L 11225.05033005717,282.6926480854147 L 11222.240704227974,284.4227132511761 L 11221.673242853605,284.61302041940985 L 11220.856652095365,285.11473931748066 L 11218.261554346724,285.80676538378526 L 11216.18547614781,286.7652214856171 L 11213.244365366016,288.5748696490035 L 11208.05416986873,289.9589217816126 L 11206.915786989659,290.10078712520504 L 11206.912326859328,290.10078712520504 L 11203.556000437751,290.99696088106947 L 11202.922796587081,291.0765438786945 L 11200.62527004695,291.3637346962109 L 11200.095870106228,291.688986947374 L 11199.791378637054,291.7720300753306 L 11199.057831006772,292.3810130136786 L 11194.559661575791,295.1491172788969 L 11189.369466078508,296.533169411506 L 11188.120359028828,296.68887527642454 L 11185.563322713833,298.2632345772674 L 11180.373127216548,299.64728670987654 L 11176.40089759596,300.1455454776158 L 11175.089508200314,300.30817160319737 L 11173.452866553502,300.6853258093334 L 11172.535932015648,300.7995101102737 L 11169.87855192104,301.60918060784996 L 11169.646723188827,301.72336490879024 L 11164.456527691544,303.45343007455165 L 11158.920319161107,304.4914691740085 L 11157.42900298822,304.5848926929596 L 11156.861541613851,304.9343658564434 L 11154.76816276328,306.2215343397699 L 11149.577967265996,307.60558647237906 L 11144.041758735559,308.2976125386836 L 11141.875717148027,308.2976125386836 L 11140.581628404036,308.64362557183586 L 11136.554036698144,309.14880460023824 L 11135.045419873599,309.33565163814046 L 11123.626989779574,309.33565163814046 L 11121.896924613813,309.6816646712927 L 11121.305242327122,309.7993091025645 L 11118.43679428229,310.3736907375973 L 11117.05274214968,310.28718747930924 L 11116.360716083376,310.3736907375973 L 11047.850135519224,310.3736907375973 L 11047.735951218283,310.35985021627124 L 11047.504122486072,310.3736907375973 L 11041.967913955636,309.6816646712927 L 11040.947175507836,309.31835098648287 L 11039.096005780471,308.82355234907504 L 11037.123731491503,308.2976125386836 L 11035.272561764139,307.1592296596126 L 11034.701640259438,306.91356040607445 L 11027.781379596392,306.91356040607445 L 11027.089353530087,306.8270571477864 L 11025.705301397478,306.91356040607445 L 11022.245171065955,306.2215343397699 L 11020.515105900195,305.8755213066176 L 11019.64315305665,305.52950827346535 L 11017.612056552047,304.9862678114162 L 11014.978897369758,304.4914691740085 L 11010.968606315522,303.15585886604066 L 11007.020597607254,302.4153909750948 L 11004.802654064748,301.67492308414893 L 11003.134871244954,301.3254499206651 L 11002.176415143123,301.2043453590618 L 10999.408310877905,301.0313388424857 L 10998.186884870878,300.7060865913225 L 10998.024258745296,300.6853258093334 L 10992.83406324801,299.30127367672424 L 10992.802922075027,299.2805128947351 L 10992.488050214859,299.30127367672424 L 10989.027919883336,298.6092476104197 L 10987.297854717575,298.2632345772674 L 10983.491711352899,298.2632345772674 L 10982.799685286594,298.17673131897936 L 10981.415633153985,298.2632345772674 L 10977.955502822462,297.57120851096283 L 10976.225437656702,297.2251954778106 L 10975.360405073821,296.8791824446583 L 10972.765307325179,296.18715637835373 L 10971.377795062239,295.3325041864676 L 10971.139046069362,295.2702218405002 L 10970.689229126265,295.1491172788969 L 10970.357056614439,294.944969589337 L 10967.229098794742,294.11107817944 L 10965.99383226639,293.349849506505 L 10963.768968463219,293.0730390799832 L 10962.4714195889,292.7270260468309 L 10960.308838131697,292.7270260468309 L 10954.77262960126,292.0349999805263 L 10950.122214435694,290.79627332184117 L 10949.582434103975,290.6509478479172 L 10947.64130098799,289.4572028835418 L 10945.648265917034,288.2288566158512 L 10942.662173440931,288.2288566158512 L 10942.419964317723,288.1977154428675 L 10941.970147374626,288.2288566158512 L 10938.18476479194,287.7548187604326 L 10936.43393884419,287.53683054954666 L 10936.229791154628,287.48838872490535 L 10931.935769413209,286.4987914500898 L 10929.697065088714,285.7514032984809 L 10929.167665147992,285.57493665157324 L 10927.43759998223,285.11473931748066 L 10927.02930460311,284.8621498032795 L 10926.745573915925,284.7687262843284 L 10923.55533375026,282.806832386355 L 10922.247404484946,282.00062201911015 L 10921.832188845163,281.65460898595785 L 10919.479300219728,281.65460898595785 L 10918.787274153423,281.5681057276698 L 10917.403222020814,281.65460898595785 L 10917.02952794501,281.57848611866433 L 10913.94309168929,280.9625829196533 L 10912.21302652353,280.616569886501 L 10911.521000457225,280.3397594599792 L 10909.444922258312,279.92454382019645 L 10907.71485709255,279.57853078704414 L 10906.849824509669,279.2325177538919 L 10905.957110884136,278.9937687610168 L 10904.254726761026,278.5404916875873 L 10902.6492262872,277.5508944127718 L 10902.524661595266,277.5024525881305 L 10901.14752972332,276.8138866521574 L 10900.856878775472,276.68932196022257 L 10898.718518230591,276.11840045552134 L 10898.202958811193,275.80006846502124 L 10894.22034879961,273.3502961903031 L 10890.317321785653,270.0977736786716 L 10890.075112662447,269.94898807441615 L 10889.618375458685,269.69985869054653 L 10889.030153302327,269.544152825628 L 10887.178983574962,268.405769946557 L 10886.60806207026,268.1601006930188 L 10885.570022970804,267.7448850532361 L 10884.531983871348,267.46807462671427 L 10883.033747437798,266.5476799585292 L 10882.801918705585,266.4300355272574 L 10881.940346253035,265.90063558653446 L 10881.071853539825,265.73800946095287 L 10879.469813196329,265.2016892595668 L 10878.303749274606,264.8141546624363 L 10876.573684108844,264.3539573283437 L 10874.483765388604,263.56850774308805 L 10869.88525217801,262.9699051957346 L 10862.041136716449,262.9699051957346 L 10856.504928186012,262.27787912943006 L 10854.11397812693,261.6412151484298 L 10851.314732688728,260.8938269968209 L 10846.816563257747,258.12572273160265 L 10845.15916082895,256.74513072932507 L 10843.716286480703,255.54446550428662 L 10843.494838139486,255.3576184663844 L 10834.360094064266,255.3576184663844 z\" /></g></svg>"
      ],
      "text/plain": [
       "<shapely.geometry.polygon.Polygon at 0x13225da90>"
      ]
     },
     "execution_count": 62,
     "metadata": {},
     "output_type": "execute_result"
    }
   ],
   "source": [
    "s1_polygon = Polygon(s1_coordinates)\n",
    "s1_polygon"
   ]
  },
  {
   "cell_type": "code",
   "execution_count": 67,
   "metadata": {},
   "outputs": [],
   "source": [
    "split_polygons = []\n",
    "polygon_to_split = s1_polygon\n",
    "for line in split_lines: \n",
    "    split_result = split(polygon_to_split, line)\n",
    "    split_polygons.append(split_result[0])\n",
    "    polygon_to_split = split_result[1]\n",
    "    \n",
    "split_polygons.append(polygon_to_split)"
   ]
  },
  {
   "cell_type": "markdown",
   "metadata": {},
   "source": [
    "# Verify slices area"
   ]
  },
  {
   "cell_type": "code",
   "execution_count": 77,
   "metadata": {},
   "outputs": [
    {
     "name": "stdout",
     "output_type": "stream",
     "text": [
      "Recomputed area 100.00 %\n"
     ]
    }
   ],
   "source": [
    "split_polygon_areas = [polygon.area for polygon in split_polygons]\n",
    "total_area = sum(split_polygon_areas)\n",
    "print('Recomputed area {:.2f} %'.format((total_area / s1_polygon.area) * 100))\n"
   ]
  },
  {
   "cell_type": "code",
   "execution_count": 78,
   "metadata": {},
   "outputs": [
    {
     "data": {
      "image/png": "[encoded data removed]",
      "text/plain": [
       "<Figure size 432x288 with 1 Axes>"
      ]
     },
     "metadata": {
      "needs_background": "light"
     },
     "output_type": "display_data"
    }
   ],
   "source": [
    "_= plt.hist(split_polygon_areas)"
   ]
  },
  {
   "cell_type": "markdown",
   "metadata": {},
   "source": [
    "# Compute densities from fractions and volume"
   ]
  },
  {
   "cell_type": "code",
   "execution_count": 79,
   "metadata": {},
   "outputs": [],
   "source": [
    "densities = nb_points_per_bin / (np.array(split_polygon_areas) * z_length)"
   ]
  },
  {
   "cell_type": "code",
   "execution_count": 80,
   "metadata": {},
   "outputs": [
    {
     "data": {
      "text/plain": [
       "(array([2., 0., 2., 1., 0., 1., 0., 1., 1., 2.]),\n",
       " array([7.32534317e-05, 7.47707448e-05, 7.62880579e-05, 7.78053711e-05,\n",
       "        7.93226842e-05, 8.08399973e-05, 8.23573104e-05, 8.38746236e-05,\n",
       "        8.53919367e-05, 8.69092498e-05, 8.84265630e-05]),\n",
       " <a list of 10 Patch objects>)"
      ]
     },
     "execution_count": 80,
     "metadata": {},
     "output_type": "execute_result"
    },
    {
     "data": {
      "image/png": "[encoded data removed]",
      "text/plain": [
       "<Figure size 432x288 with 1 Axes>"
      ]
     },
     "metadata": {
      "needs_background": "light"
     },
     "output_type": "display_data"
    }
   ],
   "source": [
    "plt.hist(densities) # nb_cell by um3"
   ]
  }
 ],
 "metadata": {
  "kernelspec": {
   "display_name": "Python 3",
   "language": "python",
   "name": "python3"
  },
  "language_info": {
   "codemirror_mode": {
    "name": "ipython",
    "version": 3
   },
   "file_extension": ".py",
   "mimetype": "text/x-python",
   "name": "python",
   "nbconvert_exporter": "python",
   "pygments_lexer": "ipython3",
   "version": "3.8.12"
  }
 },
 "nbformat": 4,
 "nbformat_minor": 4
}
