{
 "cells": [
  {
   "cell_type": "code",
   "execution_count": 1,
   "id": "3b0a80ae",
   "metadata": {},
   "outputs": [],
   "source": [
    "import math\n",
    "import numpy as np\n",
    "import matplotlib.pyplot as plt\n",
    "import geojson\n",
    "from shapely.geometry import Polygon, LineString\n",
    "from shapely.ops import split\n",
    "from shapely.geometry import Point, LineString, Polygon\n",
    "from numpy import ones,vstack\n",
    "from numpy.linalg import lstsq\n",
    "from scipy.spatial.distance import cdist"
   ]
  },
  {
   "cell_type": "code",
   "execution_count": 2,
   "id": "cf876291",
   "metadata": {},
   "outputs": [],
   "source": [
    "pixel_size = 0.346\n",
    "s1_geo = geojson.load(open('../Inputs/404_1_S1.geojson','rb'))\n",
    "s1_coordinates = np.array(s1_geo[\"features\"][0][\"geometry\"][\"coordinates\"][0]) * pixel_size\n",
    "s1_pixel_coordinates = np.array(s1_geo[\"features\"][0][\"geometry\"][\"coordinates\"][0])"
   ]
  },
  {
   "cell_type": "code",
   "execution_count": 13,
   "id": "ce6d26e7",
   "metadata": {},
   "outputs": [],
   "source": [
    "def distance(p1, p2):\n",
    "    return math.sqrt((p1[0]-p2[0])**2 + (p1[1]-p2[1])**2)\n",
    "\n",
    "def get_depth(s1_coordinates, cell_coordinate, slope):\n",
    "    \"\"\"\n",
    "    Args:\n",
    "        s1_coordinates (np_array): shape(nb_vertices, 2) S1 annotation coordinates\n",
    "        cell_coordinate(np.array): shape(1, 2): x,y coordinate of the cell\n",
    "        slope(float): linear fonction slope\n",
    "    Returns:\n",
    "    float: percentage of depth\n",
    "    \"\"\"\n",
    "    # compute top point\n",
    "    b = cell_coordinate[1] - a * cell_coordinate[0]\n",
    "    y= s1_coordinates[:,1].max() + 100\n",
    "    x=(y-b)/a\n",
    "    top_point = np.array([x,y])\n",
    "    # compute button point\n",
    "    b = cell_coordinate[1] - a * cell_coordinate[0]\n",
    "    y= s1_coordinates[:,1].min() - 100\n",
    "    x=(y-b)/a\n",
    "    buttom_point = np.array([x,y])\n",
    "\n",
    "    line = [(top_point[0],top_point[1]),(buttom_point[0],buttom_point[1])]\n",
    "    shapely_line = LineString(line)\n",
    "    polygon = Polygon(s1_coordinates)\n",
    "    intersection_line = list(polygon.intersection(shapely_line).coords)\n",
    "\n",
    "    plt.axis('equal')\n",
    "    plt.plot(s1_coordinates[:,0], s1_coordinates[:,1], 'r')\n",
    "    \n",
    "    #plt.scatter(top_points[0], top_points[1], color=(0.,1.,0.))\n",
    "    #plt.scatter(buttom_points[0], buttom_points[1], color=(0.,0.,1.))\n",
    "    plt.scatter(intersection_line[0][0], intersection_line[0][1], color=(0., 0., 1.))\n",
    "    plt.scatter(intersection_line[1][0], intersection_line[1][1], color=(0.,1.,0.))\n",
    "    plt.scatter(cell_coordinate[0], cell_coordinate[1], color=(1.,0.,0.))\n",
    "    \n",
    "    total_length = distance(intersection_line[0], intersection_line[1])\n",
    "    cell_to_top_length = distance(cell_coordinate, intersection_line[0])\n",
    "    return cell_to_top_length / total_length\n",
    "    "
   ]
  },
  {
   "cell_type": "code",
   "execution_count": 14,
   "id": "55e8d72e",
   "metadata": {},
   "outputs": [],
   "source": [
    "# Compute line slop form S1 top and button left points"
   ]
  },
  {
   "cell_type": "code",
   "execution_count": 19,
   "id": "365ada1e",
   "metadata": {},
   "outputs": [
    {
     "name": "stdout",
     "output_type": "stream",
     "text": [
      "Line Solution is y = 9.84889366978922x + -98453.17948913475\n"
     ]
    },
    {
     "name": "stderr",
     "output_type": "stream",
     "text": [
      "/tmp/ipykernel_30020/2341524879.py:6: FutureWarning: `rcond` parameter will change to the default of machine precision times ``max(M, N)`` where M and N are the input matrix dimensions.\n",
      "To use the future default and silence this warning we advise to pass `rcond=None`, to keep using the old, explicitly pass `rcond=-1`.\n",
      "  slope, b = lstsq(A, y_coords)[0]\n"
     ]
    }
   ],
   "source": [
    "bottom_left = np.array([10030.37046,   334.87264])\n",
    "top_left = np.array([10261.95864,  2615.76   ])\n",
    "points = [bottom_left,top_left]\n",
    "x_coords, y_coords = zip(*points)\n",
    "A = vstack([x_coords,ones(len(x_coords))]).T\n",
    "slope, b = lstsq(A, y_coords)[0]\n",
    "print(\"Line Solution is y = {a}x + {b}\".format(a=slope,b=b))"
   ]
  },
  {
   "cell_type": "code",
   "execution_count": 20,
   "id": "8290c482",
   "metadata": {},
   "outputs": [
    {
     "data": {
      "text/plain": [
       "0.4564260066673104"
      ]
     },
     "execution_count": 20,
     "metadata": {},
     "output_type": "execute_result"
    },
    {
     "data": {
      "image/png": "[encoded data removed]",
      "text/plain": [
       "<Figure size 432x288 with 1 Axes>"
      ]
     },
     "metadata": {
      "needs_background": "light"
     },
     "output_type": "display_data"
    }
   ],
   "source": [
    "get_depth(s1_coordinates,  np.array([11000, 1500]), slope)"
   ]
  },
  {
   "cell_type": "code",
   "execution_count": 21,
   "id": "bdb1ff93",
   "metadata": {},
   "outputs": [
    {
     "name": "stdout",
     "output_type": "stream",
     "text": [
      "0.0\n"
     ]
    },
    {
     "data": {
      "image/png": "[encoded data removed]",
      "text/plain": [
       "<Figure size 432x288 with 1 Axes>"
      ]
     },
     "metadata": {
      "needs_background": "light"
     },
     "output_type": "display_data"
    }
   ],
   "source": [
    "print(get_depth(s1_coordinates,  np.array([11105.401067170818, 2538.0839032477015]), slope))"
   ]
  },
  {
   "cell_type": "code",
   "execution_count": 22,
   "id": "68f52ebe",
   "metadata": {},
   "outputs": [
    {
     "name": "stdout",
     "output_type": "stream",
     "text": [
      "0.9999999999999998\n"
     ]
    },
    {
     "data": {
      "image/png": "[encoded data removed]",
      "text/plain": [
       "<Figure size 432x288 with 1 Axes>"
      ]
     },
     "metadata": {
      "needs_background": "light"
     },
     "output_type": "display_data"
    }
   ],
   "source": [
    "print(get_depth(s1_coordinates,  np.array([10874.474113775374, 263.70889375332786 ]), slope))"
   ]
  },
  {
   "cell_type": "code",
   "execution_count": null,
   "id": "d5ab71a2",
   "metadata": {},
   "outputs": [],
   "source": []
  },
  {
   "cell_type": "code",
   "execution_count": null,
   "id": "c9e40435",
   "metadata": {},
   "outputs": [],
   "source": []
  }
 ],
 "metadata": {
  "kernelspec": {
   "display_name": "Python 3 (ipykernel)",
   "language": "python",
   "name": "python3"
  },
  "language_info": {
   "codemirror_mode": {
    "name": "ipython",
    "version": 3
   },
   "file_extension": ".py",
   "mimetype": "text/x-python",
   "name": "python",
   "nbconvert_exporter": "python",
   "pygments_lexer": "ipython3",
   "version": "3.8.0"
  }
 },
 "nbformat": 4,
 "nbformat_minor": 5
}
